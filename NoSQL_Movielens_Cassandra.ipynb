{
  "nbformat": 4,
  "nbformat_minor": 5,
  "metadata": {
    "kernelspec": {
      "display_name": "Python 3",
      "language": "python",
      "name": "python3"
    },
    "language_info": {
      "codemirror_mode": {
        "name": "ipython",
        "version": 3
      },
      "file_extension": ".py",
      "mimetype": "text/x-python",
      "name": "python",
      "nbconvert_exporter": "python",
      "pygments_lexer": "ipython3",
      "version": "3.9.2"
    },
    "colab": {
      "provenance": []
    }
  },
  "cells": [
    {
      "cell_type": "markdown",
      "metadata": {
        "id": "hired-seeker"
      },
      "source": [
        "## Project: Data querying and analysis using NoSQL Database"
      ],
      "id": "hired-seeker"
    },
    {
      "cell_type": "markdown",
      "metadata": {
        "id": "nKwRLuRawuMm"
      },
      "source": [
        "## Problem Statement"
      ],
      "id": "nKwRLuRawuMm"
    },
    {
      "cell_type": "markdown",
      "metadata": {
        "id": "amueu_dbwwlo"
      },
      "source": [
        "Using the Cassandra NoSQL database, explore the **Movielens** dataset and build a movie recommendation engine"
      ],
      "id": "amueu_dbwwlo"
    },
    {
      "cell_type": "markdown",
      "metadata": {
        "id": "solid-northeast"
      },
      "source": [
        "## Learning Objectives"
      ],
      "id": "solid-northeast"
    },
    {
      "cell_type": "markdown",
      "metadata": {
        "id": "ndwml1X72srT"
      },
      "source": [
        "At the end of the mini-project, we will be able to :\n",
        "\n",
        "* understand the concepts of NoSQL platforms\n",
        "* implement the database connectivity using Cassandra\n",
        "* create and insert data to the database \n",
        "* perform querying, retrieving and analyzing the data from database"
      ],
      "id": "ndwml1X72srT"
    },
    {
      "cell_type": "markdown",
      "metadata": {
        "id": "danish-guard"
      },
      "source": [
        "### Dataset"
      ],
      "id": "danish-guard"
    },
    {
      "cell_type": "markdown",
      "metadata": {
        "id": "bored-nigeria"
      },
      "source": [
        "The dataset chosen for this project is [Movielens Dataset](https://movielens.org/). The dataset describes movies and ratings from Movielens. It contains movies from year 1919 to 2000 of total 3883 movies. There are 6040 users rated one or more than one movie of total 1000209 ratings collected. Movielens is maintained by members of GroupLens Research at the University of Minnesota. There are 3 datasets given, and they are:\n",
        "\n",
        "1. `data_movie.csv` that contains movies information:\n",
        "\n",
        "* MovieId\n",
        "* Title\n",
        "* Genres\n",
        "\n",
        "2. `data_rating.csv` that contains ratings of movies by users:\n",
        "\n",
        "* UserId\n",
        "* MovieId\n",
        "* Rating\n",
        "\n",
        "3. `data_users.csv` that contains users information:\n",
        "\n",
        "* UserId\n",
        "* Age\n",
        "* Gender"
      ],
      "id": "bored-nigeria"
    },
    {
      "cell_type": "markdown",
      "metadata": {
        "id": "color-conference"
      },
      "source": [
        "## Information"
      ],
      "id": "color-conference"
    },
    {
      "cell_type": "markdown",
      "metadata": {
        "id": "included-advocate"
      },
      "source": [
        "#### NoSQL platforms\n",
        "\n",
        "A NoSQL database provides a mechanism for storage and retrieval of data that is modeled in means other than the tabular relations used in relational databases.\n",
        "\n",
        "**Cassandra** \n",
        "\n",
        "Apache Cassandra is a free and open-source, distributed, wide-column store, NoSQL database management system designed to handle large amounts of data across many commodity servers, providing high availability with no single point of failure. It is a NOSQL database developed by Facebook. It is a great database that allows you to effectively run queries on large amount of structured and semi structured data.\n",
        "\n",
        "To know when you have to choose Cassandra as your database of choice, you need to have an understanding of CAP Theorem.\n",
        "\n",
        "CAP theorem states that it is impossible for a distributed system to satisfy all three of these guarantees together, you need to leave one out.\n",
        "\n",
        "- C is Consistency, means all nodes have the same data at the same time\n",
        "- P is partition tolerance, means that in case of failure the system continues to operate\n",
        "- A is availability , make sure every request receives a response\n",
        "\n",
        "![img](https://developer.ibm.com/developer/default/tutorials/ba-set-up-apache-cassandra-architecture/images/figure1.png)"
      ],
      "id": "included-advocate"
    },
    {
      "cell_type": "markdown",
      "metadata": {
        "id": "circular-ireland"
      },
      "source": [
        "### Components of Cassandra\n",
        "\n",
        "There are following components in the Cassandra\n",
        "\n",
        "![img](https://www.guru99.com/images/cassandra/021116_0524_CassandraAr1.png)\n",
        "\n",
        "**Node**\n",
        "Node is the place where data is stored. It is the basic component of Cassandra.\n",
        "\n",
        "**Data Center**\n",
        "A collection of nodes are called data center. Many nodes are categorized as a data center.\n",
        "\n",
        "**Cluster**\n",
        "The cluster is the collection of many data centers.\n",
        "\n",
        "**Commit Log**\n",
        "Every write operation is written to Commit Log. Commit log is used for crash recovery.\n",
        "\n",
        "**Mem-table**\n",
        "After data written in Commit log, data is written in Mem-table. Data is written in Mem-table temporarily.\n",
        "\n",
        "**SSTable**\n",
        "When Mem-table reaches a certain threshold, data is flushed to an SSTable disk file."
      ],
      "id": "circular-ireland"
    },
    {
      "cell_type": "markdown",
      "metadata": {
        "id": "emotional-michael"
      },
      "source": [
        "### Data Replication\n",
        "\n",
        "As hardware problem can occur or link can be down at any time during data process, a solution is required to provide a backup when the problem has occurred. So data is replicated for assuring no single point of failure.\n",
        "\n",
        "Cassandra places replicas of data on different nodes based on these two factors.\n",
        "- Where to place next replica is determined by the Replication Strategy.\n",
        "- While the total number of replicas placed on different nodes is determined by the Replication Factor.\n",
        "\n",
        "One Replication factor means that there is only a single copy of data while three replication factor means that there are three copies of the data on three different nodes."
      ],
      "id": "emotional-michael"
    },
    {
      "cell_type": "markdown",
      "metadata": {
        "id": "8J0SQqfl2-JO"
      },
      "source": [
        "**Install the cassandra-driver**"
      ],
      "id": "8J0SQqfl2-JO"
    },
    {
      "cell_type": "code",
      "metadata": {
        "id": "contrary-saturday",
        "colab": {
          "base_uri": "https://localhost:8080/"
        },
        "outputId": "aae72910-ad7b-400b-a0af-07ccb6f56a9e"
      },
      "source": [
        "!pip install cassandra-driver"
      ],
      "id": "contrary-saturday",
      "execution_count": 1,
      "outputs": [
        {
          "output_type": "stream",
          "name": "stdout",
          "text": [
            "Looking in indexes: https://pypi.org/simple, https://us-python.pkg.dev/colab-wheels/public/simple/\n",
            "Collecting cassandra-driver\n",
            "  Downloading cassandra_driver-3.25.0-cp38-cp38-manylinux1_x86_64.whl (3.6 MB)\n",
            "\u001b[2K     \u001b[90m━━━━━━━━━━━━━━━━━━━━━━━━━━━━━━━━━━━━━━━━\u001b[0m \u001b[32m3.6/3.6 MB\u001b[0m \u001b[31m34.2 MB/s\u001b[0m eta \u001b[36m0:00:00\u001b[0m\n",
            "\u001b[?25hCollecting geomet<0.3,>=0.1\n",
            "  Downloading geomet-0.2.1.post1-py3-none-any.whl (18 kB)\n",
            "Requirement already satisfied: six>=1.9 in /usr/local/lib/python3.8/dist-packages (from cassandra-driver) (1.15.0)\n",
            "Requirement already satisfied: click in /usr/local/lib/python3.8/dist-packages (from geomet<0.3,>=0.1->cassandra-driver) (8.1.3)\n",
            "Installing collected packages: geomet, cassandra-driver\n",
            "Successfully installed cassandra-driver-3.25.0 geomet-0.2.1.post1\n"
          ]
        }
      ]
    },
    {
      "cell_type": "markdown",
      "metadata": {
        "id": "recorded-feelings"
      },
      "source": [
        "#### Importing Necessary Packages"
      ],
      "id": "recorded-feelings"
    },
    {
      "cell_type": "code",
      "metadata": {
        "id": "million-maintenance"
      },
      "source": [
        "import pandas as pd\n",
        "import cassandra\n",
        "from cassandra.cluster import Cluster\n",
        "from cassandra.auth import PlainTextAuthProvider\n",
        "from matplotlib import pyplot as plt"
      ],
      "id": "million-maintenance",
      "execution_count": 2,
      "outputs": []
    },
    {
      "cell_type": "code",
      "metadata": {
        "id": "further-cowboy",
        "colab": {
          "base_uri": "https://localhost:8080/"
        },
        "outputId": "561f5d09-2176-47e3-c24c-7b4da0796154"
      },
      "source": [
        "print(cassandra.__version__)"
      ],
      "id": "further-cowboy",
      "execution_count": 3,
      "outputs": [
        {
          "output_type": "stream",
          "name": "stdout",
          "text": [
            "3.25.0\n"
          ]
        }
      ]
    },
    {
      "cell_type": "markdown",
      "metadata": {
        "id": "IiSMIErN3A-2"
      },
      "source": [
        "### Database connection \n",
        "\n",
        "Astra Datastax is used to create a database\n",
        "\n",
        "\n",
        "**Connect the database and create keyspace:**\n",
        "\n",
        "* Download Secure Connect Bundle zip file from Datastax section. Follow the instructions on the page\n",
        "* Upload the `Secure-connect-XXXX.zip` file, which is downloaded from datastax.\n",
        "* Generate the token and save the credentials from settings section.\n",
        "    - Hint: Select role as `admin-user` and generate token\n",
        "* Using the credentials generated in settings, specify the `client Id` and `Client Secret` to the variables below."
      ],
      "id": "IiSMIErN3A-2"
    },
    {
      "cell_type": "code",
      "metadata": {
        "id": "improved-priority",
        "cellView": "form"
      },
      "source": [
        "#@title Download bundle zip\n",
        "!wget -qq https://cdn.iisc.talentsprint.com/CDS/MiniProjects/secure-connect-cds.zip"
      ],
      "id": "improved-priority",
      "execution_count": null,
      "outputs": []
    },
    {
      "cell_type": "code",
      "metadata": {
        "id": "accompanied-husband"
      },
      "source": [
        "# from google.colab import files\n",
        "# files.upload()"
      ],
      "id": "accompanied-husband",
      "execution_count": null,
      "outputs": []
    },
    {
      "cell_type": "markdown",
      "metadata": {
        "id": "bulgarian-michael"
      },
      "source": [
        "set the `Secure connect bundle zip file` path and specify the `clientID` and `Client_Secret`\n",
        "\n"
      ],
      "id": "bulgarian-michael"
    },
    {
      "cell_type": "code",
      "metadata": {
        "id": "bearing-roads"
      },
      "source": [
        "zip_path = '/content/secure-connect-cds.zip'\n",
        "Client_ID = 'SzdMZDsXLvXUQiHRsEogQgtR'\n",
        "Client_Secret = 'SaYcoWaejFAx4CxXzuf1spOMRa+t1oyTd8Z+Medbuba1q0Ww5AY,1MOPNvrr9wWSnR82,IiQa4muFoF8OfOhxdndNXtZbuZsv.dSwKKccUaHr96B8-88gyAWGURFO2Wa'"
      ],
      "id": "bearing-roads",
      "execution_count": 4,
      "outputs": []
    },
    {
      "cell_type": "markdown",
      "metadata": {
        "id": "acting-synthetic"
      },
      "source": [
        "#### Create a Cluster instance to connect to your Astra database.\n",
        "\n",
        "You will typically have one instance of Cluster for each Cassandra cluster you want to interact with. Create a session object using the cluster.\n",
        "\n"
      ],
      "id": "acting-synthetic"
    },
    {
      "cell_type": "code",
      "metadata": {
        "id": "personal-string"
      },
      "source": [
        "cloud_config= {\n",
        "        'secure_connect_bundle': zip_path\n",
        "}\n",
        "auth_provider = PlainTextAuthProvider(Client_ID, \n",
        "                                      Client_Secret)\n",
        "cluster = Cluster(cloud=cloud_config, auth_provider=auth_provider)\n",
        "session = cluster.connect()"
      ],
      "id": "personal-string",
      "execution_count": null,
      "outputs": []
    },
    {
      "cell_type": "markdown",
      "metadata": {
        "id": "sorted-modern"
      },
      "source": [
        "#### Verifying the database connection\n",
        "\n",
        "execute a simple query and verify the database connection"
      ],
      "id": "sorted-modern"
    },
    {
      "cell_type": "code",
      "metadata": {
        "id": "alike-alcohol"
      },
      "source": [
        "row = session.execute(\"select release_version from system.local\").one()\n",
        "if row:\n",
        "    print(row[0])\n",
        "else:\n",
        "    print(\"An error occurred.\")"
      ],
      "id": "alike-alcohol",
      "execution_count": null,
      "outputs": []
    },
    {
      "cell_type": "markdown",
      "metadata": {
        "id": "earlier-cedar"
      },
      "source": [
        "#### Setting the Key Space\n",
        "\n",
        "A keyspace is the top-level database object that controls the replication for the object it contains at each datacenter in the cluster. Keyspaces contain tables, materialized views and user-defined types, functions and aggregates. Typically, a cluster has one keyspace per application. Since replication is controlled on a per-keyspace basis, store data with different replication requirements (at the same datacenter) in different keyspaces.\n",
        "\n",
        "Before creating tables and inserting data let's create and set the keyspace\n",
        "\n",
        "* we can create keyspace manually on Datastax dashboard or also using the CQL command. (use lowercase to avoid errors)\n",
        "\n",
        "    * [Hint](https://docs.datastax.com/en/cql-oss/3.x/cql/cql_reference/cqlCreateKeyspace.html)\n",
        "\n",
        "* once the keyspace is created successfully, set the keyspace using the command `set_keyspace()`"
      ],
      "id": "earlier-cedar"
    },
    {
      "cell_type": "code",
      "metadata": {
        "id": "complicated-decision"
      },
      "source": [
        "try:\n",
        "    session.set_keyspace('mov')\n",
        "except Exception as e:\n",
        "    print(e)"
      ],
      "id": "complicated-decision",
      "execution_count": null,
      "outputs": []
    },
    {
      "cell_type": "markdown",
      "metadata": {
        "id": "MwAu-oEU3KWP"
      },
      "source": [
        "### Insert the data into Database \n",
        "\n",
        "To insert the data into database, we can create a table in keyspace and insert the data by using CQL command or we can directly upload the data on the datstax dashboard using Astra Dataloader\n",
        "\n",
        "As there is huge amount of data, insertion of data using CQL commands may take time, preferable method is Astra Dataloader.\n",
        "\n",
        "* Download the below mentioned 3 datasets and upload to Datastax Astra dashboard using Astra Dataloader\n",
        "    * [data_movies](https://cdn.iisc.talentsprint.com/CDS/MiniProjects/data_movies.csv)\n",
        "    * [data_ratings](https://cdn.iisc.talentsprint.com/CDS/MiniProjects/data_ratings.csv)\n",
        "    * [data_users](https://cdn.iisc.talentsprint.com/CDS/MiniProjects/data_users.csv)\n",
        "    \n",
        "while uploading data using Datastax Astra dataloader you may encounter the below error message due to formatting issues or bulk data. In that case, click on upload button for second time for data upload. \n",
        "![img](https://cdn.iisc.talentsprint.com/CDS/MiniProjects/data_upload_error.JPG)\n",
        "\n",
        "Note: Cassandra also handles non-SQL data formats such as JSON (see [insert JSON data](https://docs.datastax.com/en/cql-oss/3.3/cql/cql_using/useInsertJSON.html)). However for the purpose of this Mini-project, we are using a tabular data format (.csv)."
      ],
      "id": "MwAu-oEU3KWP"
    },
    {
      "cell_type": "markdown",
      "metadata": {
        "id": "Mre0B5tr3O_P"
      },
      "source": [
        "### Querying the database"
      ],
      "id": "Mre0B5tr3O_P"
    },
    {
      "cell_type": "markdown",
      "metadata": {
        "id": "played-twelve"
      },
      "source": [
        "* Select First 10 rows of the data_movies table\n",
        "* How many Users have watched the movie  `'Contact (1997)'` with MovieId = 1584\n",
        "* Select the count of teenage male users\n",
        "\n",
        "\n"
      ],
      "id": "played-twelve"
    },
    {
      "cell_type": "code",
      "metadata": {
        "id": "familiar-architecture"
      },
      "source": [
        "query = \"SELECT * FROM mov.data_movies limit 10;\"\n",
        "try:\n",
        "    rows = session.execute(query)\n",
        "except Exception as e:\n",
        "    print(e)\n",
        "    \n",
        "for row in rows:\n",
        "    print(row)"
      ],
      "id": "familiar-architecture",
      "execution_count": null,
      "outputs": []
    },
    {
      "cell_type": "code",
      "metadata": {
        "id": "younger-audit"
      },
      "source": [
        "rating_query = 'select count(*) from data_ratings where movieid=1584 allow filtering;'\n",
        "try:\n",
        "    rows = session.execute(rating_query)\n",
        "except Exception as e:\n",
        "    print(e)\n",
        "    \n",
        "for row in rows:\n",
        "    print(row)"
      ],
      "id": "younger-audit",
      "execution_count": null,
      "outputs": []
    },
    {
      "cell_type": "code",
      "metadata": {
        "id": "charged-demographic"
      },
      "source": [
        "user_query = \"\"\"select count(*) from data_users  where age<20 and gender='M' allow filtering;\"\"\"\n",
        "try:\n",
        "    rows = session.execute(user_query)\n",
        "except Exception as e:\n",
        "    print(e)\n",
        "    \n",
        "for row in rows:\n",
        "    print(row)"
      ],
      "id": "charged-demographic",
      "execution_count": null,
      "outputs": []
    },
    {
      "cell_type": "markdown",
      "metadata": {
        "id": "mouNLoDpmUgg"
      },
      "source": [
        "* Select the count of movies with Top rating from the entire ratings table"
      ],
      "id": "mouNLoDpmUgg"
    },
    {
      "cell_type": "code",
      "metadata": {
        "id": "better-heath"
      },
      "source": [
        "query = \"select count(*) from mov.data_ratings where rating=5 allow filtering;\"\n",
        "try:\n",
        "    top_rated_count = session.execute(query)\n",
        "    for c in top_rated_count:\n",
        "        print(c)\n",
        "except Exception as e:\n",
        "    print(e)"
      ],
      "id": "better-heath",
      "execution_count": null,
      "outputs": []
    },
    {
      "cell_type": "markdown",
      "metadata": {
        "id": "9cYAIwtEmWsL"
      },
      "source": [
        "* Select the count of movies, ONLY in Comedy genre from the entire table"
      ],
      "id": "9cYAIwtEmWsL"
    },
    {
      "cell_type": "code",
      "metadata": {
        "id": "enabling-display"
      },
      "source": [
        "Query = 'SELECT COUNT(*) FROM mov.data_movies WHERE genres={} ALLOW FILTERING;'.format(\"'Comedy'\")\n",
        "print(Query)\n",
        "try:\n",
        "    count = session.execute(Query)\n",
        "    for i in count:\n",
        "        print(i)\n",
        "except Exception as e:\n",
        "    print(e)"
      ],
      "id": "enabling-display",
      "execution_count": null,
      "outputs": []
    },
    {
      "cell_type": "markdown",
      "metadata": {
        "id": "OSKsU0kN3Zyl"
      },
      "source": [
        "### Visualizing the Data\n",
        "\n",
        "Retrieve the data using CQL queries and visualize using matplotlib"
      ],
      "id": "OSKsU0kN3Zyl"
    },
    {
      "cell_type": "markdown",
      "metadata": {
        "id": "damaged-laugh"
      },
      "source": [
        "* Visualize the frequencies of movie genres"
      ],
      "id": "damaged-laugh"
    },
    {
      "cell_type": "code",
      "metadata": {
        "id": "acquired-solid"
      },
      "source": [
        "query = 'select genres from mov.data_movies'\n",
        "genres = []\n",
        "try:\n",
        "    top_rated_count = session.execute(query)\n",
        "    for c in top_rated_count:\n",
        "      #print(c.genres)\n",
        "      genres.extend(c.genres.split(\"|\"))\n",
        "except Exception as e:\n",
        "    print(e)"
      ],
      "id": "acquired-solid",
      "execution_count": null,
      "outputs": []
    },
    {
      "cell_type": "code",
      "metadata": {
        "id": "driving-wings"
      },
      "source": [
        "plt.hist(genres);\n",
        "plt.xticks(rotation=45)\n",
        "plt.show()"
      ],
      "id": "driving-wings",
      "execution_count": null,
      "outputs": []
    },
    {
      "cell_type": "markdown",
      "metadata": {
        "id": "instant-immigration"
      },
      "source": [
        "* Visualize the bar plot showing no. of movies released in a particular year"
      ],
      "id": "instant-immigration"
    },
    {
      "cell_type": "code",
      "metadata": {
        "id": "theoretical-carol"
      },
      "source": [
        "query = \"select * from mov.data_movies\"\n",
        "century = []\n",
        "not_centuries = []\n",
        "try:\n",
        "    top_rated_count = session.execute(query)\n",
        "    for c in top_rated_count:\n",
        "        if c.title.find(\"(\"):\n",
        "            century.append(int(c.title[-5:-1]))\n",
        "        else:\n",
        "            not_centuries.append(c.title)\n",
        "except Exception as e:\n",
        "    print(e)"
      ],
      "id": "theoretical-carol",
      "execution_count": null,
      "outputs": []
    },
    {
      "cell_type": "code",
      "metadata": {
        "id": "forbidden-civilian"
      },
      "source": [
        "century = sorted(century)\n",
        "pd.DataFrame(century).value_counts(sort=False).plot.bar();\n",
        "plt.xticks(rotation=45)\n",
        "plt.show()"
      ],
      "id": "forbidden-civilian",
      "execution_count": null,
      "outputs": []
    },
    {
      "cell_type": "markdown",
      "metadata": {
        "id": "pediatric-clothing"
      },
      "source": [
        "* Depict the age group that has the maximum viewership of movies\n",
        "\n"
      ],
      "id": "pediatric-clothing"
    },
    {
      "cell_type": "code",
      "metadata": {
        "id": "desirable-selection"
      },
      "source": [
        "query = 'select age from mov.data_users;'\n",
        "Ages=[]\n",
        "try:\n",
        "    result_set = session.execute(query)\n",
        "    for i in result_set:\n",
        "        Ages.append((i.age//10 ) * 10)\n",
        "except Exception as e:\n",
        "    print(e)"
      ],
      "id": "desirable-selection",
      "execution_count": null,
      "outputs": []
    },
    {
      "cell_type": "code",
      "metadata": {
        "id": "vietnamese-nerve"
      },
      "source": [
        "from matplotlib import pyplot as plt\n",
        "plt.hist(Ages);\n",
        "plt.xticks(rotation=45)\n",
        "plt.show()"
      ],
      "id": "vietnamese-nerve",
      "execution_count": null,
      "outputs": []
    },
    {
      "cell_type": "markdown",
      "metadata": {
        "id": "hS4J7-bb3TXj"
      },
      "source": [
        "### Analyzing the Data\n",
        "\n",
        "Analyze the correlation between the movies records and implement a function to recommend movies based on the search term"
      ],
      "id": "hS4J7-bb3TXj"
    },
    {
      "cell_type": "markdown",
      "metadata": {
        "id": "southeast-buffalo"
      },
      "source": [
        "* Retrieve all the data from ratings table"
      ],
      "id": "southeast-buffalo"
    },
    {
      "cell_type": "code",
      "metadata": {
        "id": "related-google"
      },
      "source": [
        "query = 'select * from mov.data_ratings;'\n",
        "movie_ratings = []\n",
        "try:\n",
        "    res_set = session.execute(query)\n",
        "    for c in res_set:\n",
        "        movie_ratings.append([c.movieid,c.rating,c.userid])\n",
        "except Exception as e:\n",
        "    print(e)"
      ],
      "id": "related-google",
      "execution_count": null,
      "outputs": []
    },
    {
      "cell_type": "markdown",
      "metadata": {
        "id": "continent-travel"
      },
      "source": [
        "* Create a movie matrix by applying pivot table with the above retrieved ratings data\n",
        "\n",
        "* use `pd.pivot_table` with index = `userid`, columns = `movieid` and Values = `rating`\n",
        "\n",
        " **Hint:** create a dataframe with above retrieved ratings data to apply pivot table"
      ],
      "id": "continent-travel"
    },
    {
      "cell_type": "code",
      "metadata": {
        "id": "prospective-polls"
      },
      "source": [
        "movie_ratings = pd.DataFrame(movie_ratings,columns=['MovieId','Rating','UserId'])\n",
        "movie_ratings.head(2)"
      ],
      "id": "prospective-polls",
      "execution_count": null,
      "outputs": []
    },
    {
      "cell_type": "code",
      "metadata": {
        "id": "unlimited-zoning"
      },
      "source": [
        "movie_matrix = movie_ratings.pivot_table(index = ['UserId'],columns = [\"MovieId\"],values = \"Rating\").fillna(0)"
      ],
      "id": "unlimited-zoning",
      "execution_count": null,
      "outputs": []
    },
    {
      "cell_type": "markdown",
      "metadata": {
        "id": "surgical-level"
      },
      "source": [
        "* Define a function named `recommend_movies()` which will take a movieid as argument and return the top 5 similar movieids\n",
        "\n",
        "    * Considering the argument (movieid) as search item collect the particular row data\n",
        "    \n",
        "    * Using movie matrix calculate correlation between movie search Item data and all the remaining data\n",
        "        \n",
        "    * Sort the result by ascending order and return the top 5 items"
      ],
      "id": "surgical-level"
    },
    {
      "cell_type": "code",
      "metadata": {
        "id": "excellent-perth"
      },
      "source": [
        "def recommend_movie(movie):\n",
        "    movie_watched = movie_matrix[movie]\n",
        "    similarity_with_other_movies = movie_matrix.corrwith(movie_watched)\n",
        "    similarity_with_other_movies = similarity_with_other_movies.sort_values(ascending=False)\n",
        "    return similarity_with_other_movies.head()"
      ],
      "id": "excellent-perth",
      "execution_count": null,
      "outputs": []
    },
    {
      "cell_type": "markdown",
      "metadata": {
        "id": "afraid-ivory"
      },
      "source": [
        "* write a query to get MovieId of a Title (your choice) and the result MovieId as a search item by calling the above defined function"
      ],
      "id": "afraid-ivory"
    },
    {
      "cell_type": "code",
      "metadata": {
        "id": "damaged-starter"
      },
      "source": [
        "query = 'select * from mov.data_movies where title={} allow filtering;'.format(\"'Boy Who Could Fly, The (1986)'\")\n",
        "print(query)\n",
        "try:\n",
        "    res_set = session.execute(query)\n",
        "    for i in res_set:\n",
        "        print(\"Movie id is\",i.movieid)\n",
        "except Exception as e:\n",
        "    print(e)"
      ],
      "id": "damaged-starter",
      "execution_count": null,
      "outputs": []
    },
    {
      "cell_type": "code",
      "metadata": {
        "id": "breathing-peoples"
      },
      "source": [
        "similar = recommend_movie(2453)\n",
        "similar.index[1:]"
      ],
      "id": "breathing-peoples",
      "execution_count": null,
      "outputs": []
    },
    {
      "cell_type": "markdown",
      "metadata": {
        "id": "altered-testimony"
      },
      "source": [
        "* Now taking the result of top 5 items (MovieId's) write a query to retrieve the Movie title from movies table"
      ],
      "id": "altered-testimony"
    },
    {
      "cell_type": "code",
      "metadata": {
        "id": "SPtjUvn-Yx6H"
      },
      "source": [
        "for idx in similar.index[1:]:\n",
        "  query = 'select * from data_movies where movieid= {}'.format(idx)\n",
        "  try:\n",
        "      res_set = session.execute(query)\n",
        "      for i in res_set:\n",
        "          print(i.title, i.genres)\n",
        "  except Exception as e:\n",
        "      print(e)"
      ],
      "id": "SPtjUvn-Yx6H",
      "execution_count": null,
      "outputs": []
    },
    {
      "cell_type": "markdown",
      "metadata": {
        "id": "A4ny4iS4qnMc"
      },
      "source": [
        "**Close the session**"
      ],
      "id": "A4ny4iS4qnMc"
    },
    {
      "cell_type": "code",
      "metadata": {
        "id": "z4UFgSBDquGJ"
      },
      "source": [
        "session.shutdown()\n",
        "cluster.shutdown()"
      ],
      "id": "z4UFgSBDquGJ",
      "execution_count": null,
      "outputs": []
    },
    {
      "cell_type": "code",
      "source": [],
      "metadata": {
        "id": "pnGtNLCNLlgA"
      },
      "id": "pnGtNLCNLlgA",
      "execution_count": null,
      "outputs": []
    }
  ]
}