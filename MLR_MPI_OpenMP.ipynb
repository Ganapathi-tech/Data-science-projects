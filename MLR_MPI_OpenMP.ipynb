{
  "nbformat": 4,
  "nbformat_minor": 5,
  "metadata": {
    "colab": {
      "provenance": []
    },
    "kernelspec": {
      "display_name": "Python 3",
      "language": "python",
      "name": "python3"
    },
    "language_info": {
      "codemirror_mode": {
        "name": "ipython",
        "version": 3
      },
      "file_extension": ".py",
      "mimetype": "text/x-python",
      "name": "python",
      "nbconvert_exporter": "python",
      "pygments_lexer": "ipython3",
      "version": "3.6.7rc1"
    }
  },
  "cells": [
    {
      "cell_type": "markdown",
      "metadata": {
        "id": "8l1MHnmouefz"
      },
      "source": [
        "##Implementation of Multiple Linear Regression using MPI and OpenMP"
      ],
      "id": "8l1MHnmouefz"
    },
    {
      "cell_type": "markdown",
      "metadata": {
        "id": "military-proportion"
      },
      "source": [
        "## Learning Objectives"
      ],
      "id": "military-proportion"
    },
    {
      "cell_type": "markdown",
      "metadata": {
        "id": "durable-grounds"
      },
      "source": [
        "At the end of the mini-project, we will be able to :\n",
        "\n",
        "* understand the collective communication operations like scatter, gather, broadcast \n",
        "* understand the blocking and non-blocking communication\n",
        "* implement multiple linear regression and run it using MPI\n",
        "* implement the multiple linear regression based predictions using OpenMP"
      ],
      "id": "durable-grounds"
    },
    {
      "cell_type": "markdown",
      "metadata": {
        "id": "growing-queens"
      },
      "source": [
        "### Dataset"
      ],
      "id": "growing-queens"
    },
    {
      "cell_type": "markdown",
      "metadata": {
        "id": "raised-connection"
      },
      "source": [
        "The dataset chosen for this mini-project is [Combined Cycle Power Plant](https://archive.ics.uci.edu/ml/datasets/combined+cycle+power+plant). The dataset is made up of 9568 records and 5 columns. Each record contains the values for Ambient Temperature, Exhaust Vaccum, Ambient Pressure, Relative Humidity and Energy Output. \n",
        "\n",
        "Predicting full load electrical power output of a base load power plant is important in order to maximize the profit from the available megawatt hours.  The base load operation of a power plant is influenced by four main parameters, which are used as input variables in the dataset, such as ambient temperature, atmospheric pressure, relative humidity, and exhaust steam pressure. These parameters affect electrical power output, which is considered as the target variable.\n",
        "\n",
        "**Note:** The data was collected over a six year period (2006-11)."
      ],
      "id": "raised-connection"
    },
    {
      "cell_type": "markdown",
      "metadata": {
        "id": "dominant-residence"
      },
      "source": [
        "## Information"
      ],
      "id": "dominant-residence"
    },
    {
      "cell_type": "markdown",
      "metadata": {
        "id": "coated-timing"
      },
      "source": [
        "#### MPI in a Nutshell\n",
        "\n",
        "MPI stands for \"Message Passing Interface\". It is a library of functions (in C / Python) or subroutines (in Fortran) that you insert into source code to perform data communication between processes. MPI was developed over two years of discussions led by the MPI Forum, a group of roughly sixty people representing some forty organizations.\n",
        "\n",
        "\n",
        "#### Multiple Linear Regression\n",
        "\n",
        "Multiple regression is an extension of simple linear regression. It is used when we want to predict the value of a variable based on the value of two or more other variables. The variable we want to predict is called the dependent variable (or sometimes, the outcome, target or criterion variable). The variables we are using to predict the value of the dependent variable are called the independent variables (or sometimes, the predictor, explanatory or regressor variables)."
      ],
      "id": "coated-timing"
    },
    {
      "cell_type": "markdown",
      "metadata": {
        "id": "global-savings"
      },
      "source": [
        "**Note:** We will be using the mpi4py Python package for MPI based code implementation"
      ],
      "id": "global-savings"
    },
    {
      "cell_type": "markdown",
      "metadata": {
        "id": "ndQNKsjS7c04"
      },
      "source": [
        "## Grading = 20 Points"
      ],
      "id": "ndQNKsjS7c04"
    },
    {
      "cell_type": "markdown",
      "metadata": {
        "id": "green-deviation"
      },
      "source": [
        "**Run the below code to install mpi4py package**"
      ],
      "id": "green-deviation"
    },
    {
      "cell_type": "code",
      "metadata": {
        "id": "designing-marketing",
        "scrolled": true,
        "colab": {
          "base_uri": "https://localhost:8080/"
        },
        "outputId": "385468d9-0c5f-4bfd-96a5-afeb831e72be"
      },
      "source": [
        "!pip install mpi4py"
      ],
      "id": "designing-marketing",
      "execution_count": null,
      "outputs": [
        {
          "output_type": "stream",
          "name": "stdout",
          "text": [
            "Looking in indexes: https://pypi.org/simple, https://us-python.pkg.dev/colab-wheels/public/simple/\n",
            "Collecting mpi4py\n",
            "  Downloading mpi4py-3.1.3.tar.gz (2.5 MB)\n",
            "\u001b[K     |████████████████████████████████| 2.5 MB 39.7 MB/s \n",
            "\u001b[?25h  Installing build dependencies ... \u001b[?25l\u001b[?25hdone\n",
            "  Getting requirements to build wheel ... \u001b[?25l\u001b[?25hdone\n",
            "    Preparing wheel metadata ... \u001b[?25l\u001b[?25hdone\n",
            "Building wheels for collected packages: mpi4py\n",
            "  Building wheel for mpi4py (PEP 517) ... \u001b[?25l\u001b[?25hdone\n",
            "  Created wheel for mpi4py: filename=mpi4py-3.1.3-cp37-cp37m-linux_x86_64.whl size=2185316 sha256=6c17e0d31686c8aab248d074d1e0f9a8f74c51389f9d23aef5795824a6163439\n",
            "  Stored in directory: /root/.cache/pip/wheels/7a/07/14/6a0c63fa2c6e473c6edc40985b7d89f05c61ff25ee7f0ad9ac\n",
            "Successfully built mpi4py\n",
            "Installing collected packages: mpi4py\n",
            "Successfully installed mpi4py-3.1.3\n"
          ]
        }
      ]
    },
    {
      "cell_type": "markdown",
      "metadata": {
        "id": "dedicated-thong"
      },
      "source": [
        "#### Importing Necessary Packages"
      ],
      "id": "dedicated-thong"
    },
    {
      "cell_type": "code",
      "metadata": {
        "id": "reported-acrobat",
        "scrolled": true
      },
      "source": [
        "# Importing pandas\n",
        "import pandas as pd \n",
        "# Importing Numpy\n",
        "import numpy as np \n",
        "# Importing MPI from mpi4py package\n",
        "from mpi4py import MPI \n",
        "# Importing sqrt function from the Math\n",
        "from math import sqrt \n",
        "# Importing Decimal, ROUND_HALF_UP functions from the decimal package\n",
        "from decimal import Decimal, ROUND_HALF_UP\n",
        "import time "
      ],
      "id": "reported-acrobat",
      "execution_count": null,
      "outputs": []
    },
    {
      "cell_type": "code",
      "metadata": {
        "id": "universal-jonathan",
        "scrolled": true,
        "cellView": "form"
      },
      "source": [
        "#@title Downloading the data\n",
        "!wget -qq https://cdn.iisc.talentsprint.com/CDS/Datasets/PowerPlantData.csv"
      ],
      "id": "universal-jonathan",
      "execution_count": null,
      "outputs": []
    },
    {
      "cell_type": "markdown",
      "metadata": {
        "id": "forty-still"
      },
      "source": [
        "### Overview\n",
        "\n",
        "* Load the data and perform data pre-processing\n",
        "* Identify the features, target and split the data into train and test\n",
        "* Implement multiple Linear Regression by estimating the coefficients on the given data\n",
        "* Use MPI package to distribute the data and implement `communicator`\n",
        "* Define functions for each objective and make a script (.py) file to execute using MPI command\n",
        "* Use OpenMP component to predict the data and calculate the error on the predicted data\n",
        "* Implement the Linear Regression from `sklearn` and compare the results"
      ],
      "id": "forty-still"
    },
    {
      "cell_type": "markdown",
      "metadata": {
        "id": "early-peace"
      },
      "source": [
        "#### Load data\n",
        "\n",
        "Writing a function that takes the filename as input and loads the data in a pandas dataframe with the column names as Ambient Temperature, Exhaust Vaccum, Ambient Pressure, Relative Humidity and Energy Output respectively.\n",
        "\n"
      ],
      "id": "early-peace"
    },
    {
      "cell_type": "code",
      "metadata": {
        "id": "differential-vacation",
        "scrolled": true
      },
      "source": [
        "FILENAME = \"/content/PowerPlantData.csv\" # Storing File path\n",
        "# Defining a function to load the data\n",
        "def loadData(filename): \n",
        "    # Loading the dataset with column names as \n",
        "    data = pd.read_csv(filename, header=0 , names = ['AmbientTemperature', 'ExhaustVaccum', 'AmbientPressure', 'RelativeHumidity', 'EnergyOutput'])\n",
        "    # Returning the dataframe\n",
        "    return data\n",
        "# Calling the function loadData and storing the dataframe in a variable named df\n",
        "df = loadData(FILENAME)"
      ],
      "id": "differential-vacation",
      "execution_count": null,
      "outputs": []
    },
    {
      "cell_type": "markdown",
      "metadata": {
        "id": "italian-expense"
      },
      "source": [
        "#### Explore data \n",
        "\n",
        "Writing a function that takes the data loaded using the above defined function as input and explore it.\n",
        "\n",
        "\n",
        "\n",
        "- checking for the number of rows and columns\n",
        "- summary of the dataset\n",
        "- check for the null values \n",
        "- check for the duplicate values"
      ],
      "id": "italian-expense"
    },
    {
      "cell_type": "code",
      "metadata": {
        "id": "local-quarter",
        "scrolled": true
      },
      "source": [
        "# Defining a function\n",
        "def exploreData(data):\n",
        "    print(data.shape) # Checking for number of rows and columns\n",
        "    print(data.describe()) # Summary of the data\n",
        "    print(data.isna()) # Checking for the null values in the data\n",
        "    print(sum(data.duplicated()))  # Checking for the duplicate values in the data"
      ],
      "id": "local-quarter",
      "execution_count": null,
      "outputs": []
    },
    {
      "cell_type": "code",
      "metadata": {
        "id": "rapid-mobile",
        "scrolled": true,
        "colab": {
          "base_uri": "https://localhost:8080/"
        },
        "outputId": "b07a4921-1ddc-4657-d746-db71a38c4d32"
      },
      "source": [
        "# Calling the function exploreData to understand the dataset\n",
        "exploreData(df)"
      ],
      "id": "rapid-mobile",
      "execution_count": null,
      "outputs": [
        {
          "output_type": "stream",
          "name": "stdout",
          "text": [
            "(9568, 5)\n",
            "       AmbientTemperature  ExhaustVaccum  AmbientPressure  RelativeHumidity  \\\n",
            "count         9568.000000    9568.000000      9568.000000       9568.000000   \n",
            "mean            19.651231      54.305804      1013.259078         73.308978   \n",
            "std              7.452473      12.707893         5.938784         14.600269   \n",
            "min              1.810000      25.360000       992.890000         25.560000   \n",
            "25%             13.510000      41.740000      1009.100000         63.327500   \n",
            "50%             20.345000      52.080000      1012.940000         74.975000   \n",
            "75%             25.720000      66.540000      1017.260000         84.830000   \n",
            "max             37.110000      81.560000      1033.300000        100.160000   \n",
            "\n",
            "       EnergyOutput  \n",
            "count   9568.000000  \n",
            "mean     454.365009  \n",
            "std       17.066995  \n",
            "min      420.260000  \n",
            "25%      439.750000  \n",
            "50%      451.550000  \n",
            "75%      468.430000  \n",
            "max      495.760000  \n",
            "      AmbientTemperature  ExhaustVaccum  AmbientPressure  RelativeHumidity  \\\n",
            "0                  False          False            False             False   \n",
            "1                  False          False            False             False   \n",
            "2                  False          False            False             False   \n",
            "3                  False          False            False             False   \n",
            "4                  False          False            False             False   \n",
            "...                  ...            ...              ...               ...   \n",
            "9563               False          False            False             False   \n",
            "9564               False          False            False             False   \n",
            "9565               False          False            False             False   \n",
            "9566               False          False            False             False   \n",
            "9567               False          False            False             False   \n",
            "\n",
            "      EnergyOutput  \n",
            "0            False  \n",
            "1            False  \n",
            "2            False  \n",
            "3            False  \n",
            "4            False  \n",
            "...            ...  \n",
            "9563         False  \n",
            "9564         False  \n",
            "9565         False  \n",
            "9566         False  \n",
            "9567         False  \n",
            "\n",
            "[9568 rows x 5 columns]\n",
            "41\n"
          ]
        }
      ]
    },
    {
      "cell_type": "markdown",
      "metadata": {
        "id": "whole-retailer"
      },
      "source": [
        "#### Handle missing data\n",
        "\n",
        "After exploring the dataset if there are any null values present in the dataset then define a function that takes data loaded using the above defined function as input and handle the null values accordingly.\n"
      ],
      "id": "whole-retailer"
    },
    {
      "cell_type": "code",
      "metadata": {
        "id": "incorporated-child",
        "scrolled": true
      },
      "source": [
        "# Function to handle missing data\n",
        "def handleMissingData(data): \n",
        "    data = data.dropna() # dropping the records containing null values using dropna function\n",
        "    # returning the dataframe after dropping the values\n",
        "    return data"
      ],
      "id": "incorporated-child",
      "execution_count": null,
      "outputs": []
    },
    {
      "cell_type": "code",
      "metadata": {
        "id": "intense-statistics",
        "scrolled": true
      },
      "source": [
        "newdf = handleMissingData(df) # storing the data after removing the null values from it"
      ],
      "id": "intense-statistics",
      "execution_count": null,
      "outputs": []
    },
    {
      "cell_type": "markdown",
      "metadata": {
        "id": "loaded-arbitration"
      },
      "source": [
        "#### Scaling the data \n",
        "\n",
        "Write a function that takes the data after handling the missing data as input and returns the standardized data.\n",
        "\n",
        "$ (x - mean(x)) / std(x) $ "
      ],
      "id": "loaded-arbitration"
    },
    {
      "cell_type": "code",
      "metadata": {
        "id": "extraordinary-qatar",
        "scrolled": true
      },
      "source": [
        "# Defining a function to standardize the data\n",
        "def standardizeData(dataFile):\n",
        "    # Applying standardization formula\n",
        "    dataFile = (dataFile - dataFile.mean()) / dataFile.std()\n",
        "    # returning the standardization data\n",
        "    return dataFile"
      ],
      "id": "extraordinary-qatar",
      "execution_count": null,
      "outputs": []
    },
    {
      "cell_type": "code",
      "metadata": {
        "id": "ranking-viking",
        "scrolled": true
      },
      "source": [
        "ScaledData = standardizeData(newdf) # Storing the data after applying standardization on the data"
      ],
      "id": "ranking-viking",
      "execution_count": null,
      "outputs": []
    },
    {
      "cell_type": "markdown",
      "metadata": {
        "id": "thermal-rehabilitation"
      },
      "source": [
        "####  Feature selection \n",
        "\n",
        "Writing a function that takes scaled data as input and returns the features and target variable value\n",
        "\n",
        "- Features: AmbientTemperature, ExhaustVaccum, AmbientPressure, RelativeHumidity \n",
        "- Target Variable: EnergyOutput"
      ],
      "id": "thermal-rehabilitation"
    },
    {
      "cell_type": "code",
      "metadata": {
        "id": "terminal-starter",
        "scrolled": true
      },
      "source": [
        "# Function which returns features and target variables\n",
        "def FeatureSelector(data, target_name):\n",
        "    target = data[target_name] # Storing the target values\n",
        "    features = data.drop([target_name],axis=1) # Storing the features by dropping the target variable column\n",
        "    return features, target # Returning the features and target "
      ],
      "id": "terminal-starter",
      "execution_count": null,
      "outputs": []
    },
    {
      "cell_type": "code",
      "metadata": {
        "id": "hungarian-repeat",
        "scrolled": true
      },
      "source": [
        "features, target = FeatureSelector(ScaledData,'EnergyOutput') # Storing the features and targets in variables respectively"
      ],
      "id": "hungarian-repeat",
      "execution_count": null,
      "outputs": []
    },
    {
      "cell_type": "markdown",
      "metadata": {
        "id": "timely-bruce"
      },
      "source": [
        "#### Correlation\n",
        "\n",
        "Calculating the correlation between the variables"
      ],
      "id": "timely-bruce"
    },
    {
      "cell_type": "code",
      "metadata": {
        "id": "durable-making",
        "scrolled": true,
        "colab": {
          "base_uri": "https://localhost:8080/"
        },
        "outputId": "27b41b0b-7771-48c5-c9d8-9dcd4caec4a7"
      },
      "source": [
        "def correlation_factor(features):\n",
        "    corr = features.corr()\n",
        "    print(np.triu(corr))\n",
        "    return np.triu(corr)\n",
        "\n",
        "import seaborn as sns\n",
        "sns.heatmap(correlation_factor(features),annot=True,xticklabels=features.columns, yticklabels=features.columns)\n",
        "# heatmap is optional"
      ],
      "id": "durable-making",
      "execution_count": null,
      "outputs": [
        {
          "output_type": "stream",
          "name": "stdout",
          "text": [
            "[[ 1.          0.84410673 -0.50754934 -0.54253465]\n",
            " [ 0.          1.         -0.41350216 -0.31218728]\n",
            " [ 0.          0.          1.          0.09957432]\n",
            " [ 0.          0.          0.          1.        ]]\n"
          ]
        },
        {
          "output_type": "execute_result",
          "data": {
            "text/plain": [
              "<matplotlib.axes._subplots.AxesSubplot at 0x7f74bdcc86d0>"
            ]
          },
          "metadata": {},
          "execution_count": 13
        },
        {
          "output_type": "display_data",
          "data": {
            "text/plain": [
              "<Figure size 432x288 with 2 Axes>"
            ],
            "image/png": "[encoded data removed]"
          },
          "metadata": {
            "needs_background": "light"
          }
        }
      ]
    },
    {
      "cell_type": "markdown",
      "metadata": {
        "id": "honest-remainder"
      },
      "source": [
        "#### Estimating the coefficients \n",
        "\n",
        "Writing a function that takes features and target as input and returns the estimated coefficient values\n"
      ],
      "id": "honest-remainder"
    },
    {
      "cell_type": "code",
      "metadata": {
        "id": "dimensional-victory",
        "scrolled": true
      },
      "source": [
        "# Calculating the coefficients\n",
        "def estimatedCoefficients(x, y):\n",
        "    # Implementing above formula\n",
        "    xT = x.transpose() # Transpose of x\n",
        "    inversed = np.linalg.inv( xT.dot(x) ) # Inverse of a matrix\n",
        "    coefficients = inversed.dot( xT ).dot(y) # performing final dot operation\n",
        "    # Returning the coefficients\n",
        "    return coefficients"
      ],
      "id": "dimensional-victory",
      "execution_count": null,
      "outputs": []
    },
    {
      "cell_type": "code",
      "metadata": {
        "id": "activated-packaging",
        "scrolled": true,
        "colab": {
          "base_uri": "https://localhost:8080/"
        },
        "outputId": "2c5c6c7f-de3e-4a33-9839-23c41d492bba"
      },
      "source": [
        "estimatedCoefficients(features, target) # Calculating the estimatedCoefficients"
      ],
      "id": "activated-packaging",
      "execution_count": null,
      "outputs": [
        {
          "output_type": "execute_result",
          "data": {
            "text/plain": [
              "array([-0.86350078, -0.17417154,  0.02160293, -0.13521023])"
            ]
          },
          "metadata": {},
          "execution_count": 15
        }
      ]
    },
    {
      "cell_type": "markdown",
      "metadata": {
        "id": "interior-bennett"
      },
      "source": [
        "#### Fit the data to estimate the coefficients\n",
        "\n",
        "Write a function named fit which takes features and targets as input and returns the intercept and coefficient values.\n",
        "\n",
        "\n",
        "- creating a dummy column in the features dataframe which is made up of all ones\n",
        "- converting the features dataframe into numpy array\n",
        "- calling the estimated coefficients function which is defined above"
      ],
      "id": "interior-bennett"
    },
    {
      "cell_type": "code",
      "metadata": {
        "id": "respected-holiday",
        "scrolled": true
      },
      "source": [
        "# function to add dummy column into features dataframe and converting it into numpy array\n",
        "def dummyvariable(features):\n",
        "    # create a array of ones\n",
        "    m = np.ones((features.shape[0],1))\n",
        "    # combining the array of ones with features array\n",
        "    f = np.concatenate((m,features),axis=1) \n",
        "    # returning the features array\n",
        "    return f"
      ],
      "id": "respected-holiday",
      "execution_count": null,
      "outputs": []
    },
    {
      "cell_type": "code",
      "metadata": {
        "id": "local-texas",
        "scrolled": true
      },
      "source": [
        "# defining a fit function\n",
        "def fit(x, y):\n",
        "    # prepare x and y values for coefficient estimates\n",
        "    x = dummyvariable(x) # adding a dummy column\n",
        "    print(x)\n",
        "    #y = y.values\n",
        "    betas = estimatedCoefficients(x, y) # calculating the estimated coefficients\n",
        "    # intercept becomes a vector of ones\n",
        "    intercept = betas[0]\n",
        "    # coefficients becomes the rest of the betas\n",
        "    coefficients = betas[1:]\n",
        "    # returning the intercept and coefficients\n",
        "    return intercept, coefficients"
      ],
      "id": "local-texas",
      "execution_count": null,
      "outputs": []
    },
    {
      "cell_type": "code",
      "metadata": {
        "id": "informational-vessel",
        "scrolled": true,
        "colab": {
          "base_uri": "https://localhost:8080/"
        },
        "outputId": "085b4fe4-1634-4760-9373-0863f5844157"
      },
      "source": [
        "intercept, coefficients = fit(features, target) # fitting the data and calculating the intercept and coefficients"
      ],
      "id": "informational-vessel",
      "execution_count": null,
      "outputs": [
        {
          "output_type": "stream",
          "name": "stdout",
          "text": [
            "[[ 1.         -1.5177822  -1.06514933 -0.40733563  1.14388457]\n",
            " [ 1.          0.53522753  0.32925964 -0.31304022  0.06102779]\n",
            " [ 1.          1.35374774  0.20414055 -1.02867497 -2.15057533]\n",
            " ...\n",
            " [ 1.         -0.49127733 -0.86291282  0.15843679  0.36650162]\n",
            " [ 1.         -0.26853249  0.43785357  0.89596154  1.46168694]\n",
            " [ 1.          0.54059487 -0.23653046 -0.23558329 -0.1417082 ]]\n"
          ]
        }
      ]
    },
    {
      "cell_type": "markdown",
      "metadata": {
        "id": "hybrid-quick"
      },
      "source": [
        "####Predict the data on estimated coefficients\n",
        "\n",
        "Writing a function named predict which takes features, intercept and coefficient values as input and returns the predicted values.\n"
      ],
      "id": "hybrid-quick"
    },
    {
      "cell_type": "code",
      "metadata": {
        "id": "buried-attention",
        "scrolled": true
      },
      "source": [
        "# fucntion to predict the values\n",
        "def predict(x, intercept, coefficients):\n",
        "    '''\n",
        "    y = b_0 + b_1*x + ... + b_i*x_i\n",
        "    '''\n",
        "    predictions = [] # Defining empty list to store the predicted values \n",
        "    for index, row in x.iterrows(): # iterating over features\n",
        "        values = row.values # converting each row into a array\n",
        "        pred = np.multiply(values, coefficients) # multiply the coefficients with the features values\n",
        "        pred = sum(pred) # storing the sum of each features\n",
        "        pred += intercept # finally adding the intercept value\n",
        "        predictions.append(pred) # appending the values to the list\n",
        "    # returning the predictions\n",
        "    return predictions"
      ],
      "id": "buried-attention",
      "execution_count": null,
      "outputs": []
    },
    {
      "cell_type": "code",
      "metadata": {
        "id": "falling-project",
        "scrolled": true,
        "colab": {
          "base_uri": "https://localhost:8080/"
        },
        "outputId": "1cedda18-a978-49b9-f4b6-39f3c5271a28"
      },
      "source": [
        "predict(features, intercept, coefficients ) # Calling the predict function"
      ],
      "id": "falling-project",
      "execution_count": null,
      "outputs": [
        {
          "output_type": "execute_result",
          "data": {
            "text/plain": [
              "[1.33266026849625,\n",
              " -0.5345312156768379,\n",
              " -0.9359603112233165,\n",
              " 0.07640425272942485,\n",
              " 0.8895610687748626,\n",
              " 0.7714443944520082,\n",
              " -0.5540970083885266,\n",
              " 0.7567708975439705,\n",
              " -1.225428897304558,\n",
              " 1.6576241437761479,\n",
              " -1.1901941130364428,\n",
              " -0.06129230454304908,\n",
              " -1.230168290299314,\n",
              " 1.4838856543859595,\n",
              " 0.5991596163999573,\n",
              " -0.3417226488979428,\n",
              " 0.5635378395088394,\n",
              " 0.98645915762327,\n",
              " 1.3799471435419066,\n",
              " 0.016165506010770346,\n",
              " 0.5509266925803932,\n",
              " -1.5941946090140535,\n",
              " -0.8408643749820662,\n",
              " 1.5063037370200536,\n",
              " 0.8948976502458754,\n",
              " 1.8016617438510365,\n",
              " -0.9186668554398925,\n",
              " 1.391217520691064,\n",
              " -0.23382065669812335,\n",
              " -0.8177208734031922,\n",
              " 0.6235815159730964,\n",
              " -0.2632052849894913,\n",
              " 1.5159680947234382,\n",
              " -1.227342437435256,\n",
              " -1.4377625642757745,\n",
              " 0.6428679501226953,\n",
              " -0.7731004649629727,\n",
              " -0.9002495713576678,\n",
              " 1.4934873187019377,\n",
              " -0.5178002934355969,\n",
              " -1.2498121464812122,\n",
              " -0.5052113845219294,\n",
              " 0.6706893189169826,\n",
              " -0.7472770960987112,\n",
              " 0.1386320380111921,\n",
              " -0.9615082705451099,\n",
              " 0.44417252909880844,\n",
              " -0.38643487272607224,\n",
              " 1.494171310332267,\n",
              " -0.8067795685985246,\n",
              " -0.5752066475877682,\n",
              " -1.064195317409722,\n",
              " 0.40730126374980496,\n",
              " -1.1190674310504143,\n",
              " -1.3900164247568525,\n",
              " 0.445451966279737,\n",
              " 1.3144709750702153,\n",
              " -0.6780368889684713,\n",
              " 0.4257973093823873,\n",
              " -1.4209078697791955,\n",
              " -0.6274560900828291,\n",
              " -0.8669968650332671,\n",
              " 0.6215050926754931,\n",
              " -1.683036504304152,\n",
              " -1.3107988283059544,\n",
              " -1.1461693083821112,\n",
              " 1.7195710376827973,\n",
              " 0.7220301036808546,\n",
              " 0.1242381475193061,\n",
              " -0.9704057842680408,\n",
              " -0.7616813206533979,\n",
              " -1.7542886299907137,\n",
              " -0.3452825111354581,\n",
              " 1.0937639784452615,\n",
              " 1.1822389471594201,\n",
              " -0.15206077735537252,\n",
              " -1.3153387386215847,\n",
              " -1.3595123511591545,\n",
              " -1.1717240850157122,\n",
              " -1.5957472590385566,\n",
              " 0.2040564300949669,\n",
              " -1.6440558325457817,\n",
              " -0.9022774694671157,\n",
              " 0.24196645900452327,\n",
              " 0.7203053088516217,\n",
              " 1.641021954909288,\n",
              " -0.847833892487403,\n",
              " -1.8571166845989555,\n",
              " 1.6536995858609622,\n",
              " -1.0586828064352634,\n",
              " -0.711892368954833,\n",
              " -0.7991346997879974,\n",
              " 0.9554316078258199,\n",
              " 0.20931935685523545,\n",
              " -0.6435352569825082,\n",
              " -0.8374585039990536,\n",
              " -0.14778711389751378,\n",
              " 1.695140784885571,\n",
              " -1.3244310946937004,\n",
              " 1.4544311926734743,\n",
              " 0.4393761984613306,\n",
              " -1.0144093389643476,\n",
              " -0.5291953825892446,\n",
              " 1.0116094314084187,\n",
              " 1.2481620042958232,\n",
              " 1.170332408564755,\n",
              " -1.5177483315372517,\n",
              " -1.0867594464179477,\n",
              " -1.3775968865805566,\n",
              " -0.10124739280717854,\n",
              " 0.010782955503774066,\n",
              " -0.6951109320855071,\n",
              " -0.1632607887454213,\n",
              " -0.3655329190169768,\n",
              " 1.4031800993417132,\n",
              " -0.8428591308102147,\n",
              " -0.7732869870563761,\n",
              " -0.40444336474418924,\n",
              " -0.3625607803718936,\n",
              " 0.06542661457079159,\n",
              " 0.5505846615646718,\n",
              " 0.9041578804077972,\n",
              " -0.8835160765148591,\n",
              " -0.050392925638693596,\n",
              " -0.5573624549342797,\n",
              " 0.41342909941803313,\n",
              " 0.10131098030400912,\n",
              " 0.6240095242920489,\n",
              " 0.704196508482751,\n",
              " -1.2247905321375852,\n",
              " 1.006245872013968,\n",
              " -1.0060675164477137,\n",
              " 0.1636444395572805,\n",
              " 1.5958508263893778,\n",
              " 1.4115604711332732,\n",
              " -0.20004135303214984,\n",
              " 0.43965677677088,\n",
              " 1.2556567760512214,\n",
              " -0.2274407578111651,\n",
              " 1.3547662816844281,\n",
              " 1.6270398829512265,\n",
              " 0.9135209906843641,\n",
              " -0.4223579214752414,\n",
              " 0.6933174359891424,\n",
              " -1.0049248650711045,\n",
              " 0.9944221748975312,\n",
              " 0.8623851594665658,\n",
              " -0.5347758296589381,\n",
              " 1.0175346297888301,\n",
              " -0.40404793070102724,\n",
              " 1.369013874514661,\n",
              " 0.502328345571096,\n",
              " 0.10308674133197973,\n",
              " 1.296724845559753,\n",
              " 1.0583797069158096,\n",
              " 0.5731883112652912,\n",
              " 0.4990870779642352,\n",
              " -0.4918828462233049,\n",
              " 0.26180666122054275,\n",
              " -0.09363506720490665,\n",
              " 0.9217304392461307,\n",
              " -0.9241376241730931,\n",
              " 0.6559515141571353,\n",
              " 0.9327629543504607,\n",
              " 0.8996929599391826,\n",
              " -1.6748768594485481,\n",
              " -0.31849921946258297,\n",
              " 1.0133184759248333,\n",
              " 0.04335160372463686,\n",
              " 0.4920414489891724,\n",
              " -0.4575449166406062,\n",
              " -0.7748213714134784,\n",
              " 0.8092494385619442,\n",
              " 0.5301597012077437,\n",
              " -0.11222324495175239,\n",
              " -1.0125440729880688,\n",
              " 0.7813524794345551,\n",
              " 0.7697628631618818,\n",
              " -1.4461834064349361,\n",
              " -0.9117737755264055,\n",
              " -1.7207065607264718,\n",
              " -0.7777800480170484,\n",
              " 1.3615893524619191,\n",
              " 0.6970498896831706,\n",
              " 0.7412072212787638,\n",
              " 1.2719096363857603,\n",
              " -1.2751700624495697,\n",
              " -0.8632554703295463,\n",
              " 1.4294413622237563,\n",
              " -0.6048513133455163,\n",
              " -0.26636622085916073,\n",
              " -0.21745699320650375,\n",
              " 0.8580914137383928,\n",
              " -0.5237482885743105,\n",
              " 1.700631968829659,\n",
              " -0.045303793289676625,\n",
              " -0.4636137988584162,\n",
              " -0.5544866525568088,\n",
              " -1.0170102088703594,\n",
              " 1.2630232863142792,\n",
              " -0.8094452790780212,\n",
              " -0.6166933174823716,\n",
              " 0.27270965577095935,\n",
              " -1.628831529707939,\n",
              " 0.8137850287863524,\n",
              " 0.5915120257087101,\n",
              " -1.032590242149291,\n",
              " 1.6853765006112957,\n",
              " 1.6795260909251823,\n",
              " 1.2592990571386073,\n",
              " 0.8289104374283761,\n",
              " -1.2866477983711209,\n",
              " 1.7601193293910904,\n",
              " -0.8953667173536973,\n",
              " -0.5589486755475361,\n",
              " 0.43686447444530324,\n",
              " -1.0246154325224004,\n",
              " -0.861968959461863,\n",
              " 0.9983093744688757,\n",
              " -0.33107546536411586,\n",
              " -0.19020653171664645,\n",
              " -0.266826639280099,\n",
              " -0.7276432028997087,\n",
              " -0.7264335778298424,\n",
              " 0.4875416966249797,\n",
              " 0.004064296316552437,\n",
              " 0.7680777156963933,\n",
              " -0.22256010974096704,\n",
              " -0.2818034762368348,\n",
              " 1.3790182688698867,\n",
              " -1.1216915722053293,\n",
              " -1.4803966975414244,\n",
              " 0.32313930087233195,\n",
              " -0.9426525181573618,\n",
              " 1.1892033769973567,\n",
              " 0.4359929067179111,\n",
              " 0.8393874481995282,\n",
              " -1.1962734152516514,\n",
              " 0.28919570527437344,\n",
              " 1.4373862286930652,\n",
              " -0.9478692389586933,\n",
              " -0.42566591079361116,\n",
              " -0.8666617895172049,\n",
              " -1.1738781810747911,\n",
              " 0.327427495070363,\n",
              " 0.7516027141744116,\n",
              " 1.143396972588267,\n",
              " -0.019769938612743045,\n",
              " -0.714285901336777,\n",
              " -0.2397140942965856,\n",
              " -0.39475618476194746,\n",
              " -1.199969464019184,\n",
              " 1.2960303204253014,\n",
              " 0.49099010579681673,\n",
              " -0.5075541206075392,\n",
              " 0.6818366302153185,\n",
              " -0.907129759055787,\n",
              " 1.3548918813878255,\n",
              " 0.9642224076786696,\n",
              " 0.41253296158320685,\n",
              " -1.621991983774568,\n",
              " 1.520577769593422,\n",
              " -0.11705685149642277,\n",
              " -0.7532860428089414,\n",
              " -0.16311114471119664,\n",
              " 0.7807041359168677,\n",
              " 1.2040414857169508,\n",
              " -1.056493629055187,\n",
              " 0.5294568145664637,\n",
              " -0.6550337328860255,\n",
              " -0.6466130496202978,\n",
              " -1.3702359148425118,\n",
              " 0.001780972272249578,\n",
              " -1.560194370462021,\n",
              " -1.5439404906140237,\n",
              " -1.4707717313115425,\n",
              " 1.8177542100846746,\n",
              " -1.380883737358055,\n",
              " -0.8258402451493387,\n",
              " 1.159104546958384,\n",
              " -0.5892164657386296,\n",
              " 1.1223107769914042,\n",
              " 1.3690600412192022,\n",
              " 0.8341539266182902,\n",
              " -0.8721337915874591,\n",
              " 1.5247307183387937,\n",
              " 0.4086189108832117,\n",
              " -1.1827329585539659,\n",
              " 1.2794399723235819,\n",
              " -1.4323526759007124,\n",
              " -1.482596346000488,\n",
              " -0.06657964230781648,\n",
              " -0.9625638763701323,\n",
              " -1.5863557577520104,\n",
              " -0.9693235050896483,\n",
              " 1.9492450936110521,\n",
              " -1.2832620072533023,\n",
              " 0.7236465845306416,\n",
              " 0.5656099354432489,\n",
              " 1.3036014993954825,\n",
              " 1.0237158666329966,\n",
              " 1.5093586381722017,\n",
              " 0.01976102043320787,\n",
              " 1.6160052306154415,\n",
              " 1.3208478847331808,\n",
              " 0.17086335145652234,\n",
              " -1.4551169451216817,\n",
              " 0.6516870892434996,\n",
              " -1.325360317038796,\n",
              " 0.7589030828418113,\n",
              " 1.8947942386510825,\n",
              " 1.2537060215330837,\n",
              " -1.5234122437737965,\n",
              " 0.47305144766550056,\n",
              " 0.7779062336573302,\n",
              " -0.3302496570698006,\n",
              " -0.3003265872839547,\n",
              " -0.7016587841255094,\n",
              " 1.7193186959588764,\n",
              " -1.5136550368521382,\n",
              " -0.668944345815189,\n",
              " -0.7359564144819041,\n",
              " -1.2983898143817105,\n",
              " -0.6344543143784582,\n",
              " -0.5535109520841062,\n",
              " -0.9059343496006985,\n",
              " 0.8977000049594774,\n",
              " -0.3996123966790934,\n",
              " 0.12706352216685973,\n",
              " 1.2430995203972433,\n",
              " 0.4064987837346866,\n",
              " 1.6481973348421366,\n",
              " 0.6094827874714852,\n",
              " -0.4771315336785735,\n",
              " 0.9580717412904389,\n",
              " -0.8853756890017346,\n",
              " 1.5861581300681757,\n",
              " 1.120971840103987,\n",
              " 0.5654071265854832,\n",
              " 0.021594255271512312,\n",
              " -0.47598022442174676,\n",
              " -1.6199537130694888,\n",
              " 0.970897980801163,\n",
              " -1.0898124632185657,\n",
              " 1.4319463531691763,\n",
              " 1.0959327767217653,\n",
              " -0.16461515567829366,\n",
              " 1.8905782331552288,\n",
              " -0.8165937016818484,\n",
              " 0.7583081152030807,\n",
              " -1.3313203267867022,\n",
              " -0.07216724949028376,\n",
              " -0.4288300058243058,\n",
              " 1.2910228337546235,\n",
              " 0.7836740101946955,\n",
              " -0.2528638237280059,\n",
              " -0.6739985209630935,\n",
              " 0.17076411832219587,\n",
              " -0.4727312199200035,\n",
              " -0.01920214391618761,\n",
              " -0.9369379749423132,\n",
              " -0.22198200815176675,\n",
              " -1.011944258918824,\n",
              " 1.303543649419925,\n",
              " -1.5251825138986048,\n",
              " -0.24857558516254935,\n",
              " 0.5149239389500664,\n",
              " -0.8696358161889195,\n",
              " -1.37798178980629,\n",
              " -0.34009404096896295,\n",
              " -1.208420436298472,\n",
              " 0.8667517175880791,\n",
              " 0.4215584418540882,\n",
              " -0.43265147802764636,\n",
              " -0.4534154877876982,\n",
              " -1.646345851565556,\n",
              " 0.6504917394787785,\n",
              " 0.5624875179922371,\n",
              " 1.2445675004805705,\n",
              " 0.6025394826233461,\n",
              " 1.417128135193235,\n",
              " 0.7356965613811314,\n",
              " -0.735216849058516,\n",
              " -0.3190110210468049,\n",
              " -0.9990618554350542,\n",
              " -1.7342802112265912,\n",
              " -1.4304495757453695,\n",
              " 0.8152872745263318,\n",
              " 0.6967999929717605,\n",
              " 0.9560194503361612,\n",
              " -0.36354904940119664,\n",
              " -1.1559824170909965,\n",
              " -0.13779938732718652,\n",
              " -0.6559306907495496,\n",
              " 1.277406060709658,\n",
              " -0.7830780690251411,\n",
              " 1.580434590027225,\n",
              " 1.938322874348187,\n",
              " -0.4607349671114714,\n",
              " 1.2556891967935497,\n",
              " 0.385492600307245,\n",
              " 0.25036696564786176,\n",
              " 1.1588006808965658,\n",
              " 1.4071008897879973,\n",
              " 0.5202529896381062,\n",
              " 1.1372703549291112,\n",
              " -0.04961668337104092,\n",
              " 1.3929477740429497,\n",
              " 0.8510561257884106,\n",
              " -0.6112329826345899,\n",
              " 0.17915456503034932,\n",
              " 0.5217423130508444,\n",
              " -1.3575134045313122,\n",
              " 1.4376365778835891,\n",
              " 1.5510111493478735,\n",
              " -0.8041993848448428,\n",
              " -0.22997128809627726,\n",
              " -0.5461743502674666,\n",
              " -0.2694274671699745,\n",
              " -0.7612871062390574,\n",
              " -0.3022621887025124,\n",
              " -0.055450946679793396,\n",
              " 0.9448809267858418,\n",
              " -0.425927148617163,\n",
              " -0.5934876118580269,\n",
              " 1.5447929488083842,\n",
              " 0.11651901660617443,\n",
              " -0.9779685147057594,\n",
              " -0.5283729424856463,\n",
              " 1.0771553703691539,\n",
              " 0.8608414752140845,\n",
              " -1.0797671294346005,\n",
              " 0.8681911772945347,\n",
              " -1.236079586015316,\n",
              " -1.7035451054844322,\n",
              " -1.1202507812301017,\n",
              " 0.8869903804435741,\n",
              " 1.6347349010357344,\n",
              " -1.3297578187941161,\n",
              " -0.3896406967411291,\n",
              " -1.2061206933737947,\n",
              " -0.0028188257334807814,\n",
              " -0.08538285739957137,\n",
              " 1.1653773100982465,\n",
              " -0.7539996364285583,\n",
              " 1.4347203619516908,\n",
              " -1.3686181110968767,\n",
              " -0.7634304629871119,\n",
              " -0.4366766013464625,\n",
              " 0.733205658754905,\n",
              " 1.240547015956288,\n",
              " 0.2450483096599845,\n",
              " -1.1485828898761994,\n",
              " -0.010611058139186539,\n",
              " -1.0921681240257202,\n",
              " -0.36217504123296573,\n",
              " 0.5836653780210005,\n",
              " 1.441090081170703,\n",
              " 0.8412609926480812,\n",
              " 1.0909930810419928,\n",
              " -1.2309607955084922,\n",
              " 0.8367410485579,\n",
              " -1.5454511855224289,\n",
              " -1.512565427276632,\n",
              " -0.703467815136044,\n",
              " 0.7817154010577357,\n",
              " -0.03482899508725643,\n",
              " -0.5785250742595462,\n",
              " -0.7517818301211834,\n",
              " 0.4802495720953916,\n",
              " 0.7331578134592741,\n",
              " -0.7926071327409101,\n",
              " -0.3011537537982974,\n",
              " -1.7091584253438536,\n",
              " 0.162602086601223,\n",
              " -0.8861363929029012,\n",
              " -0.02016995121752916,\n",
              " -0.7342607905182785,\n",
              " 1.1877875802159328,\n",
              " -0.865063232629445,\n",
              " -0.4703005255254566,\n",
              " -1.008838350218152,\n",
              " 1.42331007212694,\n",
              " -1.515091736984994,\n",
              " -1.5999087129577754,\n",
              " 1.4347529089486937,\n",
              " 0.4407024215253365,\n",
              " -0.9058158590745047,\n",
              " -0.9252989136848518,\n",
              " 1.2688221912490723,\n",
              " -1.5188502767244128,\n",
              " -0.6954154624991562,\n",
              " 1.5347315001643083,\n",
              " -0.6177642012751882,\n",
              " -0.41431277957847684,\n",
              " 1.3001018294264755,\n",
              " 0.6386790563225619,\n",
              " -0.4659933605667163,\n",
              " -1.2098341565503985,\n",
              " -0.28913799595525147,\n",
              " -0.9399322407773514,\n",
              " -0.5740323981742059,\n",
              " 1.370262195102844,\n",
              " 0.4840937999114469,\n",
              " 1.664379852400216,\n",
              " -0.5427634720706781,\n",
              " -1.2707105295927708,\n",
              " 0.39558817564923054,\n",
              " -0.29249193841883364,\n",
              " -0.8698194149999727,\n",
              " 0.44305885860550437,\n",
              " -0.9546347465376661,\n",
              " 0.9901108122093106,\n",
              " -0.5869716699634325,\n",
              " 1.5433899817295147,\n",
              " -1.4112284066607816,\n",
              " 0.3293413746119512,\n",
              " 1.6131430002095262,\n",
              " 1.4378067530956713,\n",
              " -1.350193324663599,\n",
              " -0.9160956236466605,\n",
              " 1.3166013871811706,\n",
              " 0.7046381294138351,\n",
              " -0.5198678989014053,\n",
              " -1.2044452519685296,\n",
              " -0.7928296763203783,\n",
              " 1.0990049453588175,\n",
              " -1.2070007889801122,\n",
              " 0.7060237351318678,\n",
              " -0.6841893099649992,\n",
              " 0.7047266059566094,\n",
              " 0.3641441788044579,\n",
              " 0.8687276270176499,\n",
              " 0.41652945516904266,\n",
              " 0.0025670148265287186,\n",
              " 1.7055668058746214,\n",
              " -0.9062296024202209,\n",
              " 0.8063909060042906,\n",
              " -1.4716688327936922,\n",
              " 0.8056254684872993,\n",
              " 0.7455873208229352,\n",
              " -0.5868823085501061,\n",
              " 1.388424850725667,\n",
              " -1.1008835835277486,\n",
              " 1.1740051995458418,\n",
              " -0.8895104861733234,\n",
              " 0.0008061813726976531,\n",
              " -0.8481646109924854,\n",
              " 0.519834490220018,\n",
              " -1.3737794009895548,\n",
              " -0.9944314595072641,\n",
              " 1.0305813430748438,\n",
              " -1.1068127058360424,\n",
              " 0.5035100131640106,\n",
              " 1.0419313788265143,\n",
              " -0.23862754509785364,\n",
              " 0.09538217022270763,\n",
              " 1.5955788694440174,\n",
              " 1.5914130043609285,\n",
              " 1.4442249609705788,\n",
              " 0.6207951283834554,\n",
              " 1.4297590703509595,\n",
              " 1.618661578804066,\n",
              " 1.569737155613812,\n",
              " 1.0959714128151754,\n",
              " -0.1394221428138173,\n",
              " -1.3719479717236227,\n",
              " -0.906345743710277,\n",
              " -1.1935021899378184,\n",
              " 0.8709305487764352,\n",
              " -1.398041948564028,\n",
              " -0.5573479200071448,\n",
              " -1.4384766488281782,\n",
              " -0.3148179873853099,\n",
              " 0.6174956155509617,\n",
              " 1.357584989523315,\n",
              " 1.3464047683104516,\n",
              " 1.6330840188889943,\n",
              " 0.8649363619129389,\n",
              " -0.6768687927387398,\n",
              " 1.1885187429985618,\n",
              " -1.4095069789658716,\n",
              " 1.3306787787284717,\n",
              " 0.2881935677588163,\n",
              " -1.3150342113143378,\n",
              " -1.2002486783407953,\n",
              " -1.3440362401416397,\n",
              " -0.4907102665121511,\n",
              " 1.3120873136119737,\n",
              " 0.7385138678030987,\n",
              " 0.2257331229716669,\n",
              " -0.16714655386506486,\n",
              " -1.494529557349123,\n",
              " -0.060318036567825924,\n",
              " -1.2322575467439474,\n",
              " -0.3741034796645412,\n",
              " -1.6403519699774407,\n",
              " -0.004997980555780055,\n",
              " -0.47803425331121313,\n",
              " -1.5287695444503961,\n",
              " -0.9387896880619296,\n",
              " -0.678044072643785,\n",
              " -1.6729494355478811,\n",
              " -0.5573234159391454,\n",
              " 0.8535824087387389,\n",
              " -1.1626158073583768,\n",
              " 1.0692917757042522,\n",
              " 0.10857415298038506,\n",
              " 1.0378519220052544,\n",
              " -0.26318196382097964,\n",
              " -0.8299548038813038,\n",
              " -0.8776045162811996,\n",
              " 1.3863318100481414,\n",
              " -0.06252007936805667,\n",
              " 1.7215124521107854,\n",
              " -0.46906865219858423,\n",
              " 0.1282956978583019,\n",
              " 1.63295984426189,\n",
              " -0.9728152204150957,\n",
              " -1.4075163312618613,\n",
              " -0.7773343567270179,\n",
              " -0.38088595733046865,\n",
              " 1.710213110994938,\n",
              " -0.7237000937195147,\n",
              " 0.3586871442206497,\n",
              " 1.2161861106281608,\n",
              " -0.11601425812537043,\n",
              " 0.09851998905798352,\n",
              " 0.00869475269053342,\n",
              " 0.7763426767253991,\n",
              " -1.7063054282441603,\n",
              " -1.0063022661153,\n",
              " -0.2984458856939259,\n",
              " -1.5201952552758702,\n",
              " 0.46406464327809777,\n",
              " 0.3487817186521897,\n",
              " 0.6920780965710428,\n",
              " -0.5798122101418213,\n",
              " 0.8129246226476697,\n",
              " -0.2922849361856083,\n",
              " -1.4248046838897017,\n",
              " -0.46941019239992493,\n",
              " 1.6026360170787513,\n",
              " 1.0009956986218709,\n",
              " -0.6541257965715827,\n",
              " 1.352396307980454,\n",
              " 0.3295271275912884,\n",
              " -0.39010204305305163,\n",
              " 0.07788522783854242,\n",
              " 1.4139156710706242,\n",
              " -0.05423382205225213,\n",
              " -1.1536767543845978,\n",
              " 1.765755422095031,\n",
              " 0.6473561086420261,\n",
              " -0.9052873764065145,\n",
              " -1.147826086522881,\n",
              " -0.7997909866107823,\n",
              " 0.7654691921646322,\n",
              " -1.0419066055056294,\n",
              " -0.5991154443386504,\n",
              " -0.975347240028256,\n",
              " -1.3323515475971999,\n",
              " -0.6775254219573859,\n",
              " -1.118926663748288,\n",
              " -1.3872313823774178,\n",
              " 0.0837524619450793,\n",
              " 0.2279905264972805,\n",
              " 1.4072603460337363,\n",
              " 1.1560998623793879,\n",
              " 0.10395595640425957,\n",
              " 0.17044151175689623,\n",
              " -0.42037426688433077,\n",
              " -0.4750398163830139,\n",
              " -1.2443696476959767,\n",
              " 0.9276154014729628,\n",
              " 1.6515713877477578,\n",
              " 0.23983228793165887,\n",
              " -1.1120839246537557,\n",
              " -0.7436566679892964,\n",
              " 0.5913649163577337,\n",
              " -1.203438512922854,\n",
              " 0.34724679071384695,\n",
              " -0.3599885842966145,\n",
              " -1.436080473256603,\n",
              " 0.0965047132605913,\n",
              " -1.227867247276789,\n",
              " 1.303446093185893,\n",
              " 0.7373169603492007,\n",
              " 0.8314019029638736,\n",
              " 1.0462382485318276,\n",
              " 1.568396298211871,\n",
              " 1.682978769566897,\n",
              " 0.07297067862518451,\n",
              " 0.44901815421264984,\n",
              " -0.7212994363097975,\n",
              " -1.532961397083852,\n",
              " -0.6533278018123154,\n",
              " -0.4198381627466212,\n",
              " -0.7540057982145807,\n",
              " 1.0571560797109765,\n",
              " 0.5661803480947365,\n",
              " -1.0334391133078773,\n",
              " 0.6530392636474249,\n",
              " -1.0767086071393377,\n",
              " -1.0599429230666246,\n",
              " -0.506419009053946,\n",
              " -0.8281475229545241,\n",
              " -0.009479777952364968,\n",
              " 1.3967106086407755,\n",
              " 1.616762719773501,\n",
              " 0.7721916948451641,\n",
              " -0.13321125992936464,\n",
              " -1.6861961548995021,\n",
              " 0.8559378795097812,\n",
              " -1.1568520111686802,\n",
              " 0.8144566423471571,\n",
              " 1.0184976625763285,\n",
              " -1.313112676295879,\n",
              " -0.7756139276278051,\n",
              " -0.8217844128544363,\n",
              " -1.151385081233847,\n",
              " -0.2295747005156905,\n",
              " -1.2909537988452067,\n",
              " 0.3374293545386013,\n",
              " -0.4059850322217256,\n",
              " -0.6871818469036797,\n",
              " 0.53884827197006,\n",
              " -0.7706161502666775,\n",
              " 0.05411395207812362,\n",
              " 1.4856653964094353,\n",
              " -0.9423338704064537,\n",
              " -0.6717750966019663,\n",
              " 0.1293921133704425,\n",
              " 1.1190858871111018,\n",
              " -0.6784713484466196,\n",
              " 0.9361674651964749,\n",
              " 0.520824674236751,\n",
              " 0.5704814217172873,\n",
              " -0.7926004747211641,\n",
              " 0.5272721382370952,\n",
              " 0.8234537470536929,\n",
              " 0.15370557486629308,\n",
              " 0.19139294668474177,\n",
              " 0.552752849806179,\n",
              " -0.7728802571431783,\n",
              " -0.8332597383011152,\n",
              " -1.1526741366530404,\n",
              " 1.1938529584301911,\n",
              " -1.064794738487585,\n",
              " 0.62283562973645,\n",
              " -0.20701202572615016,\n",
              " 1.4809770367051645,\n",
              " -1.3060794457589593,\n",
              " 0.6542289547041216,\n",
              " 1.1889188470846488,\n",
              " 0.47746963704421075,\n",
              " 0.0349587764796571,\n",
              " -0.8015701101021181,\n",
              " 1.6028530811565938,\n",
              " -0.5373899385135112,\n",
              " 1.034080357769188,\n",
              " 1.4508932301096327,\n",
              " -1.4043731080993211,\n",
              " -0.47761119445625483,\n",
              " -0.4718877767130942,\n",
              " 1.2833838332967842,\n",
              " 0.4726253316568739,\n",
              " 1.9909634363199629,\n",
              " -0.6404103448429834,\n",
              " 0.7013964151644878,\n",
              " -0.981873429053052,\n",
              " -0.7116787762475176,\n",
              " 1.1782661233708704,\n",
              " 0.5960495542264407,\n",
              " -0.5340350968209587,\n",
              " -0.67375016475063,\n",
              " -0.07215619428530597,\n",
              " 1.1998813463468139,\n",
              " -1.219739716062084,\n",
              " -1.0456459417639,\n",
              " -0.3311918865059191,\n",
              " -0.4961858150217271,\n",
              " -0.4662964486093771,\n",
              " -1.5454934727445266,\n",
              " -0.2753145908255361,\n",
              " 0.9216839494043133,\n",
              " -0.9012228071576845,\n",
              " 1.0298424673910929,\n",
              " -0.6672452185981246,\n",
              " -1.41627145612105,\n",
              " -0.5372136027981025,\n",
              " -1.076909514910248,\n",
              " 1.3080310803419963,\n",
              " 1.337974571246333,\n",
              " -1.312714785628174,\n",
              " -1.4116256245870435,\n",
              " -0.25499087105231116,\n",
              " -0.23024108281769531,\n",
              " 0.9528014421414399,\n",
              " -0.47726328894911224,\n",
              " -1.4633950182054134,\n",
              " 0.19892706165524254,\n",
              " -0.33791072860084265,\n",
              " 1.032689473366748,\n",
              " -0.7952035796028812,\n",
              " 1.353565483078243,\n",
              " 0.7503808831316693,\n",
              " -0.24724679199130473,\n",
              " 1.1591338177050374,\n",
              " -0.16566270709397812,\n",
              " -0.53138420363518,\n",
              " -0.13444462885815747,\n",
              " -0.6312106387036394,\n",
              " 0.6858294173052939,\n",
              " 0.047682569115359306,\n",
              " 0.08337333256426006,\n",
              " -0.7007823894306053,\n",
              " -0.7639610621319786,\n",
              " -0.3256497445580706,\n",
              " 0.3042978231441495,\n",
              " -0.41312963330666985,\n",
              " 0.44007909055480315,\n",
              " 0.7280818704339522,\n",
              " 0.7223392080309128,\n",
              " 1.4037858155540177,\n",
              " -0.4527096274215217,\n",
              " -0.9374915335114128,\n",
              " -0.8856426453135838,\n",
              " -0.9251520460427098,\n",
              " -0.7166960702415571,\n",
              " -1.6280258462801611,\n",
              " -0.15265946680150144,\n",
              " -0.9505360659627186,\n",
              " 1.1099158754314056,\n",
              " 1.026303135092762,\n",
              " 1.1207080387198602,\n",
              " -1.0804213941070688,\n",
              " -0.983639124449299,\n",
              " -1.2864870093657395,\n",
              " -0.5688077565992636,\n",
              " -1.5713336201798382,\n",
              " -0.8554747518406278,\n",
              " -0.570344334035475,\n",
              " 0.9252420749326755,\n",
              " 1.2594594403115968,\n",
              " 1.234442145768446,\n",
              " 1.253255710431316,\n",
              " -1.066123140135603,\n",
              " 1.0402164142090136,\n",
              " -0.3170751410629034,\n",
              " -0.43458926345367965,\n",
              " -0.6384060959593859,\n",
              " -0.6884143581037578,\n",
              " -1.0232552295139714,\n",
              " -0.03222620377099369,\n",
              " 0.29611505344471734,\n",
              " 0.5609531455064394,\n",
              " 1.333924584772647,\n",
              " -0.5602452214458884,\n",
              " -0.3547805532109948,\n",
              " -0.9685294472507692,\n",
              " -1.2286747906187045,\n",
              " 0.6145585875282862,\n",
              " -0.20619732790731105,\n",
              " 0.6139963527728364,\n",
              " 1.0016339503345302,\n",
              " -0.9085174899398254,\n",
              " -0.048331381506838245,\n",
              " 1.3359101561335391,\n",
              " 1.3544299374374593,\n",
              " -0.8584863693086677,\n",
              " 0.19807198876624682,\n",
              " -1.063516974662091,\n",
              " -1.1496093578273154,\n",
              " -0.7924647716500648,\n",
              " -1.6521737054393313,\n",
              " -1.477243315903154,\n",
              " 0.3843921049306834,\n",
              " -1.0997174977418398,\n",
              " 1.0542931349807414,\n",
              " -1.575381310191988,\n",
              " 0.7792480259690826,\n",
              " -0.5793846219093888,\n",
              " 0.13938807321527022,\n",
              " -0.7030513082832717,\n",
              " 1.1757313787698682,\n",
              " -1.0275012279248414,\n",
              " 0.34546630376374104,\n",
              " -0.2696564557671636,\n",
              " 1.2215924972520207,\n",
              " 0.6549984030200818,\n",
              " 0.6168777844350776,\n",
              " -0.78341948247298,\n",
              " 1.0725163465069196,\n",
              " -0.9303049483101098,\n",
              " -0.8210735906956033,\n",
              " -1.2974568217533304,\n",
              " 1.3385481970770343,\n",
              " 0.43874572674901424,\n",
              " 0.7985745384538856,\n",
              " -1.2701845793833415,\n",
              " -0.449439598952163,\n",
              " 0.4030631312047658,\n",
              " 0.8811618113972374,\n",
              " -1.2913662019283434,\n",
              " 1.3795513338786285,\n",
              " -1.1138570043274136,\n",
              " 0.5956786682450823,\n",
              " -0.2586629883090958,\n",
              " -1.190728542215276,\n",
              " 0.6182972518754556,\n",
              " -1.4795585592469942,\n",
              " 1.1836570788300758,\n",
              " -0.5462692532801586,\n",
              " -1.6913580697010613,\n",
              " -0.09535782126026411,\n",
              " 0.3153065218837779,\n",
              " -0.5973133093964367,\n",
              " -0.4389719495949701,\n",
              " 1.3019767796675805,\n",
              " 1.5885523374357218,\n",
              " 0.7803914579186125,\n",
              " 1.1925030864676462,\n",
              " 1.3298596823134314,\n",
              " 1.0330701038089414,\n",
              " 0.678487767609181,\n",
              " 1.353874340648057,\n",
              " 0.4000519656526403,\n",
              " -0.8333978110394432,\n",
              " 0.8984186930897283,\n",
              " 0.8550259305157455,\n",
              " 0.5117343684044854,\n",
              " -0.7579718471831652,\n",
              " -1.6465814058266386,\n",
              " -1.4996721148300238,\n",
              " -1.3172582672080952,\n",
              " 1.3947086237346513,\n",
              " -0.9829454228055851,\n",
              " -1.491861091189821,\n",
              " 1.5350119851768225,\n",
              " 1.085735900508759,\n",
              " 1.0633843679720327,\n",
              " 0.6507186840027739,\n",
              " 1.1803959790106555,\n",
              " 0.3537726388498544,\n",
              " -1.4054858947958564,\n",
              " -1.4871939370636749,\n",
              " -0.8562584784007271,\n",
              " -0.6606632986364372,\n",
              " -1.0477740370526882,\n",
              " -0.015532494544185243,\n",
              " 0.413651642207851,\n",
              " -0.4896962574744691,\n",
              " -1.2867514268469944,\n",
              " -0.3750313818069593,\n",
              " -0.4660208746283739,\n",
              " 0.9747819835292186,\n",
              " 0.4743000969675339,\n",
              " -0.9403954077176986,\n",
              " -1.250596626523694,\n",
              " -1.3574932410020333,\n",
              " -0.8960565480862978,\n",
              " -1.45530831011707,\n",
              " 0.7092209851183467,\n",
              " -1.220708708945471,\n",
              " -1.9023713533931073,\n",
              " -0.38974968713975316,\n",
              " -0.8912933121560617,\n",
              " -1.663997534836948,\n",
              " -0.9353352920645803,\n",
              " 1.6571810969039171,\n",
              " -1.4777651616913903,\n",
              " -0.42599262917342845,\n",
              " 0.8416071329450818,\n",
              " -0.509399707444733,\n",
              " -1.5380324131732346,\n",
              " 0.49872297556651424,\n",
              " 1.7357053714015742,\n",
              " -1.6009621267616987,\n",
              " -0.8630799962648752,\n",
              " -1.0612849747457864,\n",
              " 1.5073987732589842,\n",
              " 0.3010001494807216,\n",
              " -1.5728932943378964,\n",
              " 0.1743077124695396,\n",
              " -0.8311582962912698,\n",
              " -0.5294005249512663,\n",
              " -0.6931118768122657,\n",
              " 1.0129163335924767,\n",
              " -0.13317278836959792,\n",
              " -1.3005188951443705,\n",
              " 1.1196699384067836,\n",
              " 0.7195778596352503,\n",
              " 0.013406565783565345,\n",
              " 1.7160275201055462,\n",
              " 1.5854426473266905,\n",
              " -1.2162328218489005,\n",
              " -0.5730976277201584,\n",
              " 0.9140929631091187,\n",
              " -1.2826377360430725,\n",
              " ...]"
            ]
          },
          "metadata": {},
          "execution_count": 20
        }
      ]
    },
    {
      "cell_type": "markdown",
      "metadata": {
        "id": "rolled-consultancy"
      },
      "source": [
        "#### Root mean squared error\n",
        "\n",
        "Writing a function to calculate the RMSE error. \n"
      ],
      "id": "rolled-consultancy"
    },
    {
      "cell_type": "code",
      "metadata": {
        "id": "phantom-alabama",
        "scrolled": true
      },
      "source": [
        "# function to calculate the error\n",
        "def rmse(actual, predicted):\n",
        "        # To store the value\n",
        "        sum_err = 0.0\n",
        "        # iterating over the actual values\n",
        "        for i in range(len(actual)):\n",
        "            # calculating mean squared error\n",
        "            pred_err = predicted[i] - actual[i]\n",
        "            sum_err += pred_err ** 2\n",
        "        mean_err = sum_err / float(len(actual))\n",
        "        # squaring the mean squared error to get the RMSE error value\n",
        "        return sqrt(mean_err)"
      ],
      "id": "phantom-alabama",
      "execution_count": null,
      "outputs": []
    },
    {
      "cell_type": "markdown",
      "metadata": {
        "id": "experimental-discrimination"
      },
      "source": [
        "#### Splitting the data into train and test\n",
        "\n",
        "Writing a function named train_test_split which takes features and targets as input and returns the train and test sets respectively.\n"
      ],
      "id": "experimental-discrimination"
    },
    {
      "cell_type": "code",
      "metadata": {
        "id": "dangerous-salmon",
        "scrolled": true
      },
      "source": [
        "# Divide the data into 70% train set and 30% test set \n",
        "def train_test_split(features_X , expected_target_Y ):    \n",
        "    #Randomly pick 70% 0f the data \n",
        "    set_of_data = np.random.rand(len(features_X)) <= 0.7\n",
        "    X_train = features_X[set_of_data] # Training features set\n",
        "    Y_train = expected_target_Y[set_of_data] # target train set\n",
        "    #the remaining 30% is for the test set\n",
        "    X_test  = features_X[~set_of_data] # Test features set\n",
        "    Y_test  = expected_target_Y[~set_of_data] # target test sets\n",
        "    # Returning the train features set, train targets set, test features sets, test target sets\n",
        "    return X_train, X_test, Y_train, Y_test "
      ],
      "id": "dangerous-salmon",
      "execution_count": null,
      "outputs": []
    },
    {
      "cell_type": "markdown",
      "metadata": {
        "id": "covered-canon"
      },
      "source": [
        "#### Create a communicator \n",
        "\n",
        "Creating a comunicator and define the rank and size"
      ],
      "id": "covered-canon"
    },
    {
      "cell_type": "code",
      "metadata": {
        "id": "radio-origin",
        "scrolled": true
      },
      "source": [
        "# Initialize communicator\n",
        "comm = MPI.COMM_WORLD  \n",
        "# ID of the current worker \n",
        "rank = comm.Get_rank()  \n",
        "# Rank ID of sender\n",
        "status = MPI.Status()    \n",
        "# Number of workers \n",
        "size = comm.Get_size()                      \n",
        "root = 0   # Root\n",
        "# to calculate time\n",
        "t_start = 0\n",
        "t_diff = 0"
      ],
      "id": "radio-origin",
      "execution_count": null,
      "outputs": []
    },
    {
      "cell_type": "markdown",
      "metadata": {
        "id": "miniature-plaza"
      },
      "source": [
        "#### Dividing the data into slices \n",
        "\n",
        "Writing a function named dividing_data which takes train features set, train target set, and size of workers as inputs and returns the sliced data for each worker.\n",
        "\n",
        "![img](https://cdn.iisc.talentsprint.com/CDS/Images/MiniProject_MPI_DataSlice.JPG)\n",
        "\n",
        "For Example, if there are 4 processes, slice the data into 4 equal parts with 25% ratio\n",
        "\n"
      ],
      "id": "miniature-plaza"
    },
    {
      "cell_type": "code",
      "metadata": {
        "id": "signal-medicaid",
        "scrolled": true
      },
      "source": [
        "def dividing_data(x_train, y_train, size_of_workers):\n",
        "    #Divide the data among the workers\n",
        "    slice_for_each_worker = int(Decimal(x_train.shape[0]/size_of_workers).quantize(Decimal('1.'), rounding = ROUND_HALF_UP))      \n",
        "    print('Slice of data for each worker: {}'.format(slice_for_each_worker))\n",
        "    x_data_for_worker = []\n",
        "    y_data_for_worker = []\n",
        "    for i in range(0,size_of_workers):\n",
        "        if i < size_of_workers - 1:\n",
        "            x_data_for_worker.append(x_train[slice_for_each_worker*i:slice_for_each_worker*(i+1)])\n",
        "            y_data_for_worker.append(y_train[slice_for_each_worker*i:slice_for_each_worker*(i+1)])\n",
        "        else:\n",
        "            x_data_for_worker.append(x_train[slice_for_each_worker*i:])\n",
        "            y_data_for_worker.append(y_train[slice_for_each_worker*i:])\n",
        "    return x_data_for_worker, y_data_for_worker\n",
        "\n",
        "# Alternate way is to use np.split()"
      ],
      "id": "signal-medicaid",
      "execution_count": null,
      "outputs": []
    },
    {
      "cell_type": "markdown",
      "metadata": {
        "id": "changing-conditioning"
      },
      "source": [
        "#### Prepare the data in root worker to assign data for all the workers \n",
        "\n",
        "- When it is the root worker, we have to perform the below operations:\n",
        "    - Storing the features and target values in separate variables\n",
        "    - Splitting the data into train and test sets using the train_test_split function defined above\n",
        "    - Dividing the data among the workers using the dividing_data function above"
      ],
      "id": "changing-conditioning"
    },
    {
      "cell_type": "code",
      "metadata": {
        "id": "hybrid-tamil",
        "scrolled": true,
        "colab": {
          "base_uri": "https://localhost:8080/"
        },
        "outputId": "934fb2d1-dc90-42e6-bc4b-86aadeb8dfb8"
      },
      "source": [
        "if rank == root:\n",
        "    t_start = MPI.Wtime()\n",
        "    # Splitting the data into train and test\n",
        "    X_train, X_test, Y_train, Y_test =  train_test_split(features, target)\n",
        "    #Divide the data among the workers \n",
        "    x_data_for_worker, y_data_for_worker = dividing_data(X_train, Y_train, size)\n",
        "wt = MPI.Wtime()"
      ],
      "id": "hybrid-tamil",
      "execution_count": null,
      "outputs": [
        {
          "output_type": "stream",
          "name": "stdout",
          "text": [
            "Slice of data for each worker: 6760\n"
          ]
        }
      ]
    },
    {
      "cell_type": "markdown",
      "metadata": {
        "id": "breathing-baking"
      },
      "source": [
        "#### Scatter and gather the data\n",
        "\n",
        "Performing the below operations:\n",
        "\n",
        "- Send slices of the training set(the features data X and the expected target data Y) to every worker including the root worker. Workers in the group reach a Barrier, to scatter from root worker.\n",
        "- Every worker should get the predicted target Y(yhat) for each slice\n",
        "- we have to get the new coefficient of each instance in a slice\n",
        "\n",
        "- Then Calculate the root mean square error for the test set\n",
        "\n"
      ],
      "id": "breathing-baking"
    },
    {
      "cell_type": "code",
      "metadata": {
        "id": "consistent-union",
        "scrolled": true
      },
      "source": [
        "# Send the slice of data to work on to each worker    \n",
        "sliced_features_X_train = comm.scatter(x_data_for_worker, root = root)\n",
        "sliced_expected_target_Y_train = comm.scatter(y_data_for_worker, root = root)\n",
        "Xm = sliced_features_X_train.values\n",
        "ym = sliced_expected_target_Y_train.values"
      ],
      "id": "consistent-union",
      "execution_count": null,
      "outputs": []
    },
    {
      "cell_type": "code",
      "metadata": {
        "id": "educated-spiritual",
        "scrolled": true,
        "colab": {
          "base_uri": "https://localhost:8080/"
        },
        "outputId": "74b31ece-705b-4547-a00d-18de3afe2048"
      },
      "source": [
        "# checking the shape of features and target received scatter\n",
        "Xm.shape, ym.shape"
      ],
      "id": "educated-spiritual",
      "execution_count": null,
      "outputs": [
        {
          "output_type": "execute_result",
          "data": {
            "text/plain": [
              "((6760, 4), (6760,))"
            ]
          },
          "metadata": {},
          "execution_count": 27
        }
      ]
    },
    {
      "cell_type": "code",
      "metadata": {
        "id": "animal-mercy",
        "scrolled": true,
        "colab": {
          "base_uri": "https://localhost:8080/"
        },
        "outputId": "30ab389b-a73a-4af4-d68e-3d444f1d0604"
      },
      "source": [
        "# fit the data with x, y to calculate the coefficients\n",
        "b0, new_coefficients = fit(Xm, ym)"
      ],
      "id": "animal-mercy",
      "execution_count": null,
      "outputs": [
        {
          "output_type": "stream",
          "name": "stdout",
          "text": [
            "[[ 1.         -1.5177822  -1.06514933 -0.40733563  1.14388457]\n",
            " [ 1.          0.53522753  0.32925964 -0.31304022  0.06102779]\n",
            " [ 1.          1.35374774  0.20414055 -1.02867497 -2.15057533]\n",
            " ...\n",
            " [ 1.          1.84620171  1.86059139 -0.49826334 -0.93073477]\n",
            " [ 1.         -0.26853249  0.43785357  0.89596154  1.46168694]\n",
            " [ 1.          0.54059487 -0.23653046 -0.23558329 -0.1417082 ]]\n"
          ]
        }
      ]
    },
    {
      "cell_type": "code",
      "metadata": {
        "id": "specialized-temple",
        "scrolled": true,
        "colab": {
          "base_uri": "https://localhost:8080/"
        },
        "outputId": "42b72b22-8f4d-4b99-f2a5-ac6ddba838fd"
      },
      "source": [
        "b0, new_coefficients "
      ],
      "id": "specialized-temple",
      "execution_count": null,
      "outputs": [
        {
          "output_type": "execute_result",
          "data": {
            "text/plain": [
              "(-0.00020304547654217747,\n",
              " array([-0.86711523, -0.17264495,  0.01982016, -0.13700176]))"
            ]
          },
          "metadata": {},
          "execution_count": 29
        }
      ]
    },
    {
      "cell_type": "markdown",
      "metadata": {
        "id": "exterior-armor"
      },
      "source": [
        "#### Predict the output using the new coefficients"
      ],
      "id": "exterior-armor"
    },
    {
      "cell_type": "code",
      "metadata": {
        "id": "waiting-sugar",
        "scrolled": true
      },
      "source": [
        "predicted_y_sliced = predict(sliced_features_X_train, b0, new_coefficients)"
      ],
      "id": "waiting-sugar",
      "execution_count": null,
      "outputs": []
    },
    {
      "cell_type": "markdown",
      "metadata": {
        "id": "legitimate-burden"
      },
      "source": [
        "#### Gather the new coefficients and calculate the error on train and test data"
      ],
      "id": "legitimate-burden"
    },
    {
      "cell_type": "code",
      "metadata": {
        "id": "julian-yemen",
        "scrolled": true,
        "colab": {
          "base_uri": "https://localhost:8080/"
        },
        "outputId": "ce91d2af-0839-455a-a53f-c9f7e4a483df"
      },
      "source": [
        "# Gather the new coeffiecient for each slice of the training data\n",
        "gather_new_coefficients = pd.DataFrame(comm.gather(new_coefficients, root=0))\n",
        "comm.barrier()\n",
        "if rank == root:\n",
        "    coef = gather_new_coefficients.mean()\n",
        "    #print(coef)\n",
        "    predicted_y = predict(X_test, intercept, coef)    \n",
        "    print(\"Test set error(RMSE) is {}\" .format(rmse(Y_test.values, np.array(predicted_y))))\n",
        "    #print(\"Train set error(RMSE) is {}\" .format( rmse(Y_train.values, np.array(predicted_y_sliced))))\n",
        "t_diff = MPI.Wtime() - t_start   \n",
        "print('Process {}: {} secs.' .format(rank,t_diff))"
      ],
      "id": "julian-yemen",
      "execution_count": null,
      "outputs": [
        {
          "output_type": "stream",
          "name": "stdout",
          "text": [
            "Test set error(RMSE) is 0.2582422204299728\n",
            "Process 0: 0.8492911789999766 secs.\n"
          ]
        }
      ]
    },
    {
      "cell_type": "markdown",
      "metadata": {
        "id": "hired-uniform"
      },
      "source": [
        "#### Making a script and execute everything in one place \n",
        "\n",
        "Writing a script(.py) file which contains the code of all the above exercises in it so that you can run the code on multiple processes using MPI.\n"
      ],
      "id": "hired-uniform"
    },
    {
      "cell_type": "code",
      "metadata": {
        "id": "bottom-assessment",
        "scrolled": true,
        "colab": {
          "base_uri": "https://localhost:8080/"
        },
        "outputId": "8efa3223-80b7-4ca3-e606-fda43b50729f"
      },
      "source": [
        "%%writefile mlrMPI.py\n",
        "\n",
        "import pandas as pd # Importing pandas package under a name pd\n",
        "import numpy as np # Importing Numpy package under a name np\n",
        "from mpi4py import MPI # Importing MPI fro mpi4py package\n",
        "from math import sqrt # Importing sqrt function from the Math package\n",
        "from decimal import Decimal, ROUND_HALF_UP # Importing Decimal, ROUND_HALF_UP functions from the decimal package\n",
        "\n",
        "FILENAME = \"/content/PowerPlantData.csv\" # Storing File path\n",
        "# Defining a function to load the data\n",
        "def loadData(filename): \n",
        "    # Loading the dataset with column names as \n",
        "    data = pd.read_csv(filename, header=0 , names = ['AmbientTemperature', 'ExhaustVaccum', 'AmbientPressure', 'RelativeHumidity', 'EnergyOutput'])\n",
        "    # Returning the dataframe\n",
        "    return data\n",
        "# Calling the function loadData and storing the dataframe in a variable named df\n",
        "df = loadData(FILENAME)\n",
        "\n",
        " # Defining a function\n",
        "def exploreData(data):\n",
        "    print(data.shape) # Checking for number of rows and columns\n",
        "    print(data.describe()) # Summary of the data\n",
        "    print(data.isna()) # Checking for the null values in the data\n",
        "    print(sum(data.duplicated()))  # Checking for the duplicate values in the data\n",
        " # Function to handle missing data\n",
        "def handleMissingData(data): \n",
        "    data = data.dropna() # dropping the records containing null values using dropna function\n",
        "    # returning the dataframe after dropping the values\n",
        "    return data\n",
        "\n",
        "newdf = handleMissingData(df) # storing the data after removing the null values from it\n",
        "\n",
        " # Defining a function to standardization the data\n",
        "def standardizeData(dataFile):\n",
        "    # Applying standardize formula\n",
        "    dataFile = (dataFile - dataFile.mean()) / dataFile.std()\n",
        "    # returning the standardization data\n",
        "    return dataFile\n",
        "\n",
        "ScaledData = standardizeData(newdf) # Storing the data after applying normalization on the data\n",
        "\n",
        "# Function which returns features and target variables\n",
        "def FeatureSelector(data,target_name):\n",
        "    target = data[target_name] # Storing the target values\n",
        "    features = data.drop([target_name],axis=1) # Storing the features by dropping the target variable column\n",
        "    return features, target # Returning the features and target   \n",
        "\n",
        "features, target = FeatureSelector(ScaledData,'EnergyOutput') # Storing the features and targets in variables respectively\n",
        "\n",
        " # Calculating the coefficients\n",
        "def estimatedCoefficients(x, y):\n",
        "    # Implementing above formula\n",
        "    xT = x.transpose() # Transpose of x\n",
        "    inversed = np.linalg.inv( xT.dot(x) ) # Inverse of a matrix\n",
        "    coefficients = inversed.dot( xT ).dot(y) # performing final dot operation\n",
        "    # Returning the coefficients\n",
        "    return coefficients\n",
        "\n",
        " # function to add dummy column into features dataframe and converting it into numpy array\n",
        "def dummyvariable(features):\n",
        "    # create a array of ones\n",
        "    m = np.ones((features.shape[0],1))\n",
        "    # combining the array of ones with features array\n",
        "    f = np.concatenate((m,features),axis=1) \n",
        "    # returning the features array\n",
        "    return f\n",
        "\n",
        " # defining a fit function\n",
        "def fit(x, y):\n",
        "    # prepare x and y values for coefficient estimates\n",
        "    x = dummyvariable(x) # adding a dummy column\n",
        "    # y = y.values\n",
        "    betas = estimatedCoefficients(x, y) # calculating the estimated coefficients\n",
        "    # intercept becomes a vector of ones\n",
        "    intercept = betas[0]\n",
        "    # coefficients becomes the rest of the betas\n",
        "    coefficients = betas[1:]\n",
        "    # returning the intercept and coefficients\n",
        "    return intercept, coefficients\n",
        "\n",
        "intercept, coefficients = fit(features, target) # fitting the data and calculating the intercept and coefficients\n",
        "\n",
        "  # function to predict the values\n",
        "def predict(x, intercept, coefficients):\n",
        "    '''\n",
        "    y = b_0 + b_1*x + ... + b_i*x_i\n",
        "    '''\n",
        "    predictions = [] # Defining empty list to store the predicted values \n",
        "    for index, row in x.iterrows(): # iterating over features\n",
        "        values = row.values # converting eaach row into a array\n",
        "        pred = np.multiply(values, coefficients) # multiply the coefficients with the features values\n",
        "        pred = sum(pred) # storing the sum of each features\n",
        "        pred += intercept # finally adding the intercept value\n",
        "        predictions.append(pred) # appending the values to the list\n",
        "    # returning the predictions\n",
        "    return predictions\n",
        "\n",
        " # function to calculate the error\n",
        "def rmse(actual, predicted):\n",
        "        # To store the value\n",
        "        sum_err = 0.0\n",
        "        # iterating over the actual values\n",
        "        for i in range(len(actual)):\n",
        "            # calculating mean squared error\n",
        "            pred_err = predicted[i] - actual[i]\n",
        "            sum_err += pred_err ** 2\n",
        "        mean_err = sum_err / float(len(actual))\n",
        "        # squaring the mean squared error to get the RMSE error value\n",
        "        return sqrt(mean_err)\n",
        "\n",
        " # Divide the data into 70% train set and 30% test set \n",
        "def train_test_split(features_X , expected_target_Y ):    \n",
        "    #Randomly pick 70% 0f the data \n",
        "    set_of_data = np.random.rand(len(features_X)) <= 0.7\n",
        "    X_train = features_X[set_of_data] # Training features set\n",
        "    Y_train = expected_target_Y[set_of_data] # target train set\n",
        "    #the remaining 30% is for the test set\n",
        "    X_test  = features_X[~set_of_data] # Test features set\n",
        "    Y_test  = expected_target_Y[~set_of_data] # target test sets\n",
        "    # Returning the train features set, train targets set, test features sets, test target sets\n",
        "    return X_train, X_test, Y_train, Y_test \n",
        "\n",
        "def dividing_data(x_train, y_train, size_of_workers):\n",
        "    #Divide the data among the workers\n",
        "    slice_for_each_worker = int(Decimal(x_train.shape[0]/size_of_workers).quantize(Decimal('1.'), rounding = ROUND_HALF_UP))      \n",
        "    print('Slice of data for each worker: {}'.format(slice_for_each_worker))\n",
        "    x_data_for_worker = []\n",
        "    y_data_for_worker = []\n",
        "    for i in range(0,size_of_workers):\n",
        "        if i < size_of_workers - 1:\n",
        "            x_data_for_worker.append(x_train[slice_for_each_worker*i:slice_for_each_worker*(i+1)])\n",
        "            y_data_for_worker.append(y_train[slice_for_each_worker*i:slice_for_each_worker*(i+1)])\n",
        "        else:\n",
        "            x_data_for_worker.append(x_train[slice_for_each_worker*i:])\n",
        "            y_data_for_worker.append(y_train[slice_for_each_worker*i:])\n",
        "    return x_data_for_worker, y_data_for_worker\n",
        "\n",
        "def main():\n",
        "    comm = MPI.COMM_WORLD                       # Initialize communicator\n",
        "    rank = comm.Get_rank()                        # ID of the cureent worker \n",
        "    status = MPI.Status()                       # Rank ID of sender\n",
        "    size = comm.Get_size()                      # Number odf workers \n",
        "    root = 0   # Root  \n",
        "    x_data_for_worker, y_data_for_worker = [], []\n",
        "    if rank == root:\n",
        "        # Splitting the data into train and test\n",
        "        X_train, X_test, Y_train, Y_test =  train_test_split(features, target)\n",
        "        #Divide the data among the workers \n",
        "        x_data_for_worker, y_data_for_worker = dividing_data(X_train, Y_train, size)\n",
        "    \n",
        "    # Send the slice of data to work on to each worker    \n",
        "    sliced_features_X_train = comm.scatter(x_data_for_worker, root = root)\n",
        "    sliced_expected_target_Y_train = comm.scatter(y_data_for_worker, root = root)\n",
        "    Xm = sliced_features_X_train.values\n",
        "    ym = sliced_expected_target_Y_train.values\n",
        "    # fit the data with x, y to calculate the coefficients\n",
        "    b0, new_coefficients = fit(Xm, ym)\n",
        "    ##predicted_y_sliced = predict(sliced_features_X_train, b0, new_coefficients)\n",
        "    # Gather the new coeffiecient for each slice of the training data\n",
        "    gather_new_coefficients = pd.DataFrame(comm.gather(new_coefficients, root=0))\n",
        "    comm.barrier()\n",
        "    if rank == root:\n",
        "        coef = gather_new_coefficients.mean()\n",
        "        #print(coef)\n",
        "        predicted_y = predict(X_test, intercept, coef)    \n",
        "        print(\"Test set error(RMSE) is {}\" .format(rmse(Y_test.values, np.array(predicted_y))))\n",
        "\n",
        "main()"
      ],
      "id": "bottom-assessment",
      "execution_count": null,
      "outputs": [
        {
          "output_type": "stream",
          "name": "stdout",
          "text": [
            "Writing mlrMPI.py\n"
          ]
        }
      ]
    },
    {
      "cell_type": "code",
      "metadata": {
        "id": "experimental-waterproof",
        "scrolled": true,
        "colab": {
          "base_uri": "https://localhost:8080/"
        },
        "outputId": "19f3e852-f80f-49ea-a808-7ff098102972"
      },
      "source": [
        "!mpirun --allow-run-as-root -np 4 python mlrMPI.py"
      ],
      "id": "experimental-waterproof",
      "execution_count": null,
      "outputs": [
        {
          "output_type": "stream",
          "name": "stdout",
          "text": [
            "Slice of data for each worker: 1665\n",
            "Test set error(RMSE) is 0.26344130934227306\n"
          ]
        }
      ]
    },
    {
      "cell_type": "markdown",
      "metadata": {
        "id": "living-operation"
      },
      "source": [
        "#### Implementing and predicting using OpenMP \n",
        "\n",
        "Get the predictions for test data and calculate the test error(RMSE) by implementing the OpenMP (pymp)"
      ],
      "id": "living-operation"
    },
    {
      "cell_type": "code",
      "metadata": {
        "id": "w6sAWSJJG2Ng",
        "colab": {
          "base_uri": "https://localhost:8080/"
        },
        "outputId": "4fd7c4c0-e589-4193-84b9-e33353b185d5"
      },
      "source": [
        "!pip install pymp-pypi"
      ],
      "id": "w6sAWSJJG2Ng",
      "execution_count": null,
      "outputs": [
        {
          "output_type": "stream",
          "name": "stdout",
          "text": [
            "Looking in indexes: https://pypi.org/simple, https://us-python.pkg.dev/colab-wheels/public/simple/\n",
            "Collecting pymp-pypi\n",
            "  Downloading pymp-pypi-0.5.0.tar.gz (12 kB)\n",
            "Building wheels for collected packages: pymp-pypi\n",
            "  Building wheel for pymp-pypi (setup.py) ... \u001b[?25l\u001b[?25hdone\n",
            "  Created wheel for pymp-pypi: filename=pymp_pypi-0.5.0-py3-none-any.whl size=10339 sha256=4ab326d563761b1a38e52e39ef3e571eb415aa789eba3f45f4ba779a579c353d\n",
            "  Stored in directory: /root/.cache/pip/wheels/22/2a/4e/d49c406bb5eb2c04b424940de41d40b3b1481c31b9f93a13c1\n",
            "Successfully built pymp-pypi\n",
            "Installing collected packages: pymp-pypi\n",
            "Successfully installed pymp-pypi-0.5.0\n"
          ]
        }
      ]
    },
    {
      "cell_type": "code",
      "metadata": {
        "id": "behavioral-tablet",
        "scrolled": true
      },
      "source": [
        "import pymp\n",
        "def predict(x, intercept, coefficients):\n",
        "    '''\n",
        "    y = b_0 + b_1*x + ... + b_i*x_i\n",
        "    '''\n",
        "    st = time.perf_counter()\n",
        "    predictions = pymp.shared.array(Y_test.shape) # Defining empty list to store the predicted values \n",
        "    with pymp.Parallel(4) as p:\n",
        "      for index in p.range(len(x)): # iterating over features\n",
        "          values = x[index] # converting eaach row into a array\n",
        "          pred = np.multiply(values, coefficients) # multiply the coefficients with the features values\n",
        "          pred = sum(pred) # storing the sum of each features\n",
        "          pred += intercept # finally adding the intercept value\n",
        "          predictions[index]= pred # appending the values to the list\n",
        "    # returning the predictions\n",
        "    print(time.perf_counter() - st)\n",
        "    \n",
        "    return predictions"
      ],
      "id": "behavioral-tablet",
      "execution_count": null,
      "outputs": []
    },
    {
      "cell_type": "code",
      "metadata": {
        "id": "molecular-owner",
        "scrolled": true,
        "colab": {
          "base_uri": "https://localhost:8080/"
        },
        "outputId": "df0b0de3-b46c-4372-d843-c5caeac720b4"
      },
      "source": [
        "# predicting the test data\n",
        "test_predictions = np.array(predict(X_test.values, b0, new_coefficients))\n",
        "\n",
        "# calculating the error\n",
        "print(\"Test set error(RMSE) is {}\" .format(rmse(Y_test.values, test_predictions)))"
      ],
      "id": "molecular-owner",
      "execution_count": null,
      "outputs": [
        {
          "output_type": "stream",
          "name": "stdout",
          "text": [
            "0.13173130200001992\n",
            "Test set error(RMSE) is 0.2582426845869598\n"
          ]
        }
      ]
    },
    {
      "cell_type": "markdown",
      "metadata": {
        "id": "protecting-assets"
      },
      "source": [
        "#### Using Sklearn to compare \n",
        "\n",
        "Apply the Linear regression on the given data using sklearn package and compare with the above results\n",
        "\n"
      ],
      "id": "protecting-assets"
    },
    {
      "cell_type": "code",
      "metadata": {
        "id": "alternate-constraint",
        "scrolled": true
      },
      "source": [
        "xtrain, xtest, ytrain, ytest = train_test_split(features, target)"
      ],
      "id": "alternate-constraint",
      "execution_count": null,
      "outputs": []
    },
    {
      "cell_type": "code",
      "metadata": {
        "id": "consecutive-zealand",
        "scrolled": true
      },
      "source": [
        "from sklearn.linear_model import LinearRegression\n",
        "\n",
        "reg = LinearRegression()\n",
        "reg.fit(xtrain, ytrain)\n",
        "predictions = reg.predict(xtest)"
      ],
      "id": "consecutive-zealand",
      "execution_count": null,
      "outputs": []
    },
    {
      "cell_type": "code",
      "metadata": {
        "id": "compound-papua",
        "scrolled": true,
        "colab": {
          "base_uri": "https://localhost:8080/"
        },
        "outputId": "7b63647c-9fd4-4d6e-c16c-a1920c112738"
      },
      "source": [
        "# coefficients from sklearn Linear Regression\n",
        "print(reg.coef_)\n",
        "# intercept from sklearn Linear Regression\n",
        "print(reg.intercept_)"
      ],
      "id": "compound-papua",
      "execution_count": null,
      "outputs": [
        {
          "output_type": "stream",
          "name": "stdout",
          "text": [
            "[-0.86916784 -0.1745251   0.01606232 -0.13849774]\n",
            "0.0007889227277654812\n"
          ]
        }
      ]
    },
    {
      "cell_type": "code",
      "metadata": {
        "id": "sophisticated-attention",
        "scrolled": true,
        "colab": {
          "base_uri": "https://localhost:8080/"
        },
        "outputId": "b59a1fca-afb4-4fd9-e5d2-bd49d3916bcd"
      },
      "source": [
        "from sklearn.metrics import mean_squared_error\n",
        "print(sqrt(mean_squared_error(predictions, ytest)))"
      ],
      "id": "sophisticated-attention",
      "execution_count": null,
      "outputs": [
        {
          "output_type": "stream",
          "name": "stdout",
          "text": [
            "0.2738613264685041\n"
          ]
        }
      ]
    }
  ]
}