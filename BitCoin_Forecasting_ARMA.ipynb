{
  "nbformat": 4,
  "nbformat_minor": 0,
  "metadata": {
    "accelerator": "GPU",
    "colab": {
      "provenance": []
    },
    "kernelspec": {
      "display_name": "Python 3",
      "language": "python",
      "name": "python3"
    },
    "language_info": {
      "codemirror_mode": {
        "name": "ipython",
        "version": 3
      },
      "file_extension": ".py",
      "mimetype": "text/x-python",
      "name": "python",
      "nbconvert_exporter": "python",
      "pygments_lexer": "ipython3",
      "version": "3.6.9"
    }
  },
  "cells": [
    {
      "cell_type": "markdown",
      "metadata": {
        "id": "WFBl3DsqB3AE"
      },
      "source": [
        "# Bitcoin price forecasting using ARMA"
      ]
    },
    {
      "cell_type": "markdown",
      "metadata": {
        "id": "maritime-miami"
      },
      "source": [
        "##  Objectives"
      ]
    },
    {
      "cell_type": "markdown",
      "metadata": {
        "id": "95F1ym6qB8VU"
      },
      "source": [
        "\n",
        "* perform EDA on time series data\n",
        "* analyze the auto correlation and partial auto correlation plots\n",
        "* implement the ARMA model and forecast the bit coin price"
      ]
    },
    {
      "cell_type": "markdown",
      "metadata": {
        "id": "kgx1PkHfCDyJ"
      },
      "source": [
        "## Dataset\n",
        "\n"
      ]
    },
    {
      "cell_type": "markdown",
      "metadata": {
        "id": "LqNXbilqXyt7"
      },
      "source": [
        "Bitcoin is a digital currency created in January 2009. It follows the ideas set out in a whitepaper by the mysterious and pseudonymous Satoshi Nakamoto. The identity of the person or persons who created the technology is still a mystery. Bitcoin offers the promise of lower transaction fees than traditional online payment mechanisms and, unlike government-issued currencies, it is operated by a decentralized authority.\n",
        "\n",
        "Data Description\n",
        "This dataset provides the history of daily prices of Bitcoin. The data starts from 17-Sep-2014 and is updated till 09-July-2021. All the column descriptions are provided below.\n",
        "\n",
        "* Date: Day/Month/Year\n",
        "* Open: Price from the first transaction of a trading day\n",
        "* High: Maximum price in a trading day\n",
        "* Low: Minimum price in a trading day\n",
        "* Close: Price from the last transaction of a trading day\n",
        "* Adj Close: Closing price adjusted to reflect the value after accounting for any corporate actions\n",
        "* Volume: Number of units traded in a day"
      ]
    },
    {
      "cell_type": "markdown",
      "metadata": {
        "id": "ih-oasWmdZul"
      },
      "source": [
        "## Problem Statement"
      ]
    },
    {
      "cell_type": "markdown",
      "metadata": {
        "id": "-18cjyCTCHE-"
      },
      "source": [
        "Perform EDA and forecast the Bitcoin price using ARMA model on timeseries (bitcoin) data."
      ]
    },
    {
      "cell_type": "markdown",
      "metadata": {
        "id": "YRIzMfgjwcAp"
      },
      "source": [
        "### Import required Packages"
      ]
    },
    {
      "cell_type": "code",
      "metadata": {
        "id": "34ccJLc6amaQ"
      },
      "source": [
        "import warnings\n",
        "warnings.simplefilter('ignore')\n",
        "import numpy as np\n",
        "import pandas as pd\n",
        "import seaborn as sns\n",
        "from matplotlib import pyplot as plt\n",
        "from math import sqrt\n",
        "from sklearn.metrics import mean_squared_error\n",
        "from statsmodels.tsa.arima_model import ARMA\n",
        "from statsmodels.tsa.stattools import adfuller\n",
        "from statsmodels.tsa.seasonal import seasonal_decompose\n",
        "from statsmodels.graphics.tsaplots import plot_acf\n",
        "from statsmodels.graphics.tsaplots import plot_pacf\n",
        "import statsmodels.api as sm\n",
        "import itertools"
      ],
      "execution_count": null,
      "outputs": []
    },
    {
      "cell_type": "markdown",
      "metadata": {
        "id": "fmyc9n2Kaq1W"
      },
      "source": [
        "### Load the data and perform EDA\n",
        "\n",
        "Refer to this ['Bitcoin dataset EDA'](https://medium.com/@hamzaahmad86/exploratory-data-analysis-of-cryptocurrency-historical-data-d8ec719641e7)"
      ]
    },
    {
      "cell_type": "code",
      "metadata": {
        "id": "DgpRk3T3blHj"
      },
      "source": [
        "# reading the .csv file\n",
        "path = \"/content/BTC.csv\"\n",
        "df = pd.read_csv(path)\n",
        "df"
      ],
      "execution_count": null,
      "outputs": []
    },
    {
      "cell_type": "code",
      "metadata": {
        "id": "z3hi_cxdbm_D"
      },
      "source": [
        "df['Date'] = pd.to_datetime(df['Date'])\n",
        "df.set_index('Date',drop=True, inplace=True)\n",
        "df.fillna(0, inplace=True)"
      ],
      "execution_count": null,
      "outputs": []
    },
    {
      "cell_type": "code",
      "metadata": {
        "id": "4YMFWP0-cnY7"
      },
      "source": [
        "df.head()"
      ],
      "execution_count": null,
      "outputs": []
    },
    {
      "cell_type": "code",
      "metadata": {
        "id": "OsSLIneAsFQK"
      },
      "source": [
        "# plotting multiple variables\n",
        "df.plot(subplots=True)\n",
        "plt.show()"
      ],
      "execution_count": null,
      "outputs": []
    },
    {
      "cell_type": "code",
      "metadata": {
        "id": "bl2EY7WXfMfK"
      },
      "source": [
        "pd.plotting.lag_plot(df['Close'], lag=10)"
      ],
      "execution_count": null,
      "outputs": []
    },
    {
      "cell_type": "markdown",
      "metadata": {
        "id": "xQABio2Yaw1y"
      },
      "source": [
        "#### Analyze the correlation (heatmap) of all the features"
      ]
    },
    {
      "cell_type": "code",
      "metadata": {
        "id": "ID6sVXo2B2tA"
      },
      "source": [
        "import seaborn as sns\n",
        "g = sns.pairplot(df[df.columns])"
      ],
      "execution_count": null,
      "outputs": []
    },
    {
      "cell_type": "markdown",
      "metadata": {
        "id": "A3dadRytDO1r"
      },
      "source": [
        "By this we can observe the correlation between the features.\n",
        "\n",
        "We can also find the values of correlation by using pearson correlation matrix."
      ]
    },
    {
      "cell_type": "code",
      "metadata": {
        "id": "r9KJ9taAC8Ea"
      },
      "source": [
        "aq_pear_corr = df[df.columns].corr(method='pearson')\n",
        "aq_pear_corr"
      ],
      "execution_count": null,
      "outputs": []
    },
    {
      "cell_type": "code",
      "metadata": {
        "id": "nOCk4YjJVHWF"
      },
      "source": [
        "sns.heatmap(aq_pear_corr,annot=True)"
      ],
      "execution_count": null,
      "outputs": []
    },
    {
      "cell_type": "markdown",
      "metadata": {
        "id": "2xF7E2zbD6dn"
      },
      "source": [
        "Almost all the features posses same information, so we can select any of the given variables"
      ]
    },
    {
      "cell_type": "code",
      "metadata": {
        "id": "zOdAvboYEasM"
      },
      "source": [
        "df['Close'].plot(figsize=(15,6))\n",
        "plt.show()"
      ],
      "execution_count": null,
      "outputs": []
    },
    {
      "cell_type": "markdown",
      "metadata": {
        "id": "bPHv--vLsX_h"
      },
      "source": [
        "### Testing the Stationarity using Augmented Dicky Fuller Test\n",
        "\n",
        "The Augmented Dicky Fuller test is a type of statistical test called a unit root test.\n",
        "\n",
        "[tsa.stattools.adfuller](https://www.statsmodels.org/dev/generated/statsmodels.tsa.stattools.adfuller.html)"
      ]
    },
    {
      "cell_type": "code",
      "metadata": {
        "id": "EYBCGebEsBu8"
      },
      "source": [
        "#Perform Dickey Fuller test\n",
        "result = adfuller(df['Close'])\n",
        "print('ADF Stastistic: %f'%result[0])\n",
        "print('p-value: %f'%result[1])\n",
        "pvalue = result[1]\n",
        "for key,value in result[4].items():\n",
        "  if result[0]>value:\n",
        "    print(\"The graph is non stationery\")\n",
        "    break\n",
        "  else:\n",
        "    print(\"The graph is stationary\")\n",
        "    break;\n",
        "print('Critical values:')\n",
        "for key,value in result[4].items():\n",
        "    print('\\t%s: %.3f ' % (key, value))"
      ],
      "execution_count": null,
      "outputs": []
    },
    {
      "cell_type": "markdown",
      "metadata": {
        "id": "CCefQYOddJZq"
      },
      "source": [
        "### Identify the trends and seasonality from the given time series data\n",
        "\n",
        "* Apply seasonal decompose and plot the results\n",
        "* Check the stationarity of data using rolling mean and rolling standard deviation.\n",
        "* Make the time series data stationary\n",
        "  * Apply a log transformation to reduce the variance of the series\n",
        "  * Eliminate the Trend and Seasonality by Differencing\n",
        "\n",
        "**Note:** Ensure timeseries without NaN, inf, -inf values, Replace with 0 if found.\n",
        "\n",
        "Read more about stationarity of a timeseries in the following [link](https://machinelearningmastery.com/time-series-data-stationary-python/)"
      ]
    },
    {
      "cell_type": "code",
      "metadata": {
        "id": "Jeh_m6HIEg_o"
      },
      "source": [
        "ts = df['Close']\n",
        "# ETS Decomposition\n",
        "result = seasonal_decompose(ts)\n",
        "# ETS plot\n",
        "result.plot();"
      ],
      "execution_count": null,
      "outputs": []
    },
    {
      "cell_type": "code",
      "metadata": {
        "id": "F24poYPtQejc"
      },
      "source": [
        "# ETS Decomposition\n",
        "plt.figure(figsize=(30,10))\n",
        "result = seasonal_decompose(ts[:1000])\n",
        "# ETS plot\n",
        "result.plot();"
      ],
      "execution_count": null,
      "outputs": []
    },
    {
      "cell_type": "code",
      "metadata": {
        "id": "U1buicp_R3s0"
      },
      "source": [
        "# Let’s create a function to run the test which determines whether a given time series is stationary\n",
        "def get_stationarity(timeseries):\n",
        "    # Rolling statistics\n",
        "    rolling_mean = timeseries.rolling(window=24).mean()\n",
        "    rolling_std = timeseries.rolling(window=24).std()\n",
        "\n",
        "    # Rolling statistics plot\n",
        "    plt.figure(figsize=(15,5))\n",
        "    original = plt.plot(timeseries, color='blue', label='Original')\n",
        "    mean = plt.plot(rolling_mean, color='red', label='Rolling Mean')\n",
        "    std = plt.plot(rolling_std, color='black', label='Rolling Std')\n",
        "    plt.legend(loc='best')\n",
        "    plt.title('Rolling Mean & Standard Deviation')\n",
        "    plt.show()"
      ],
      "execution_count": null,
      "outputs": []
    },
    {
      "cell_type": "code",
      "metadata": {
        "id": "bAlIAZCYIcU5"
      },
      "source": [
        "get_stationarity(df['Close'])"
      ],
      "execution_count": null,
      "outputs": []
    },
    {
      "cell_type": "code",
      "metadata": {
        "id": "K8vGzKTkR_xc"
      },
      "source": [
        "# ESTIMATING THE TREND\n",
        "# Applying a log transformation is a way to reduce the variance of the series\n",
        "df_log = np.log(df['Close'])\n",
        "plt.plot(df_log);"
      ],
      "execution_count": null,
      "outputs": []
    },
    {
      "cell_type": "code",
      "metadata": {
        "id": "qbse9q1CGgnO"
      },
      "source": [
        "# replacing -inf values with 0\n",
        "print(df_log.min())\n",
        "df_log.replace(-np.inf, 0,inplace=True)\n",
        "df_log.min()"
      ],
      "execution_count": null,
      "outputs": []
    },
    {
      "cell_type": "markdown",
      "metadata": {
        "id": "yLUg6pZCT_my"
      },
      "source": [
        "Eliminating the Trend and Seasonality by **Differencing** (taking the difference with a particular time lag)"
      ]
    },
    {
      "cell_type": "code",
      "metadata": {
        "id": "cOepLf73KrqR"
      },
      "source": [
        "shift_df = pd.concat([df_log, df_log.shift(7)],axis=1)\n",
        "shift_df.columns = ['Actual','Forecasted']\n",
        "shift_df.head()"
      ],
      "execution_count": null,
      "outputs": []
    },
    {
      "cell_type": "code",
      "metadata": {
        "id": "yoP5ywOaSAcj"
      },
      "source": [
        "df_log_shift = shift_df['Actual'] - shift_df['Forecasted']\n",
        "df_log_shift.dropna(inplace=True)\n",
        "get_stationarity(df_log_shift)"
      ],
      "execution_count": null,
      "outputs": []
    },
    {
      "cell_type": "code",
      "metadata": {
        "id": "9ZFcKwJdIFJO"
      },
      "source": [
        "time_series = df_log#['Close']\n",
        "time_series = time_series.diff(7).dropna()"
      ],
      "execution_count": null,
      "outputs": []
    },
    {
      "cell_type": "markdown",
      "metadata": {
        "id": "6DTGmxdrbAJ9"
      },
      "source": [
        "### Test the Stationarity using Augmented Dicky Fuller Test\n",
        "\n",
        "Verify the stationarity post differencing, using ADF\n",
        "\n",
        " [tsa.stattools.adfuller](https://www.statsmodels.org/dev/generated/statsmodels.tsa.stattools.adfuller.html)"
      ]
    },
    {
      "cell_type": "code",
      "metadata": {
        "id": "OzMIUpS4bS7k"
      },
      "source": [
        "#Perform Dickey Fuller test\n",
        "result=adfuller(time_series)\n",
        "print('ADF Stastistic: %f'%result[0])\n",
        "pvalue=result[1]\n",
        "print('p-value: %f'%pvalue)\n",
        "\n",
        "for key,value in result[4].items():\n",
        "      if result[0]>value:\n",
        "        print(\"The graph is non stationery\")\n",
        "        break\n",
        "      else:\n",
        "        print(\"The graph is stationary\")\n",
        "        break;\n",
        "print('Critical values:')\n",
        "for key,value in result[4].items():\n",
        "    print('\\t%s: %.3f ' % (key, value))"
      ],
      "execution_count": null,
      "outputs": []
    },
    {
      "cell_type": "markdown",
      "metadata": {
        "id": "bGydKv77YH2D"
      },
      "source": [
        "### Auto Correlation Plot\n",
        "Autocorrelation refers to the degree of correlation between the values of the same variables across different observations in the data.  The concept of autocorrelation is most often discussed in the context of time series data in which observations occur at different points in time.\n",
        "\n",
        "* Plot the auto correlation function (ACF and PACF)\n",
        "* Analyse ACF and PACF plots and define AR (p) and MA(q) terms"
      ]
    },
    {
      "cell_type": "code",
      "metadata": {
        "id": "HMbCF96NvLt_"
      },
      "source": [
        "# let us plot acf and pacf graphs\n",
        "from statsmodels.graphics.tsaplots import plot_acf\n",
        "from statsmodels.graphics.tsaplots import plot_pacf\n",
        "\n",
        "plt.figure(figsize = (20,10))\n",
        "plt.subplot(211)\n",
        "plot_acf(time_series, ax=plt.gca(), lags = 60)\n",
        "plt.subplot(212)\n",
        "plot_pacf(time_series, ax=plt.gca(), lags = 60)\n",
        "plt.show()"
      ],
      "execution_count": null,
      "outputs": []
    },
    {
      "cell_type": "markdown",
      "metadata": {
        "id": "UKxwbMlLyasv"
      },
      "source": [
        "**Analysing ACF and PACF plots for Identifying the number of AR and MA terms (p and q)**\n",
        "\n",
        "- The lag beyond which the PACF cuts off is the indicated number of AR terms (p).\n",
        "- The lag beyond which the ACF cuts off is the indicated number of MA terms (q)."
      ]
    },
    {
      "cell_type": "markdown",
      "metadata": {
        "id": "WM0lVx31qTDP"
      },
      "source": [
        "### Train the AR model"
      ]
    },
    {
      "cell_type": "code",
      "metadata": {
        "id": "WfQB8Q0AiejP"
      },
      "source": [
        "regr = sm.tsa.AR(time_series).fit(lag=7)\n",
        "fore = regr.predict()\n",
        "\n",
        "time_series.plot()\n",
        "fore.plot(figsize=(30,10))\n",
        "plt.show()"
      ],
      "execution_count": null,
      "outputs": []
    },
    {
      "cell_type": "markdown",
      "metadata": {
        "id": "JLn49R_frgnK"
      },
      "source": [
        "### ARMA Model\n",
        "\n",
        "* Fit the ARMA model on train data and forecast the test data"
      ]
    },
    {
      "cell_type": "code",
      "metadata": {
        "id": "CBYKrNu2YLLq"
      },
      "source": [
        "# ARMA Method - 1\n",
        "from math import sqrt\n",
        "from sklearn.metrics import mean_squared_error\n",
        "\n",
        "# ARMA model\n",
        "model = ARMA(time_series, order=(4, 1))\n",
        "model_fit = model.fit()\n",
        "print(model_fit.aic)\n",
        "\n",
        "predictions = model_fit.predict()\n",
        "error = sqrt(mean_squared_error(time_series, predictions))\n",
        "print('RMSE value: %.3f' % error)"
      ],
      "execution_count": null,
      "outputs": []
    },
    {
      "cell_type": "code",
      "metadata": {
        "id": "l_xoYcZ8GxDu"
      },
      "source": [
        "plt.figure(figsize=(27,7))\n",
        "plt.plot(time_series.index, time_series, color='red', label='Actual Test Data')\n",
        "plt.plot(time_series.index, predictions, color='green', linestyle='dashed', label='Predicted Data')\n",
        "plt.legend();\n",
        "plt.show()"
      ],
      "execution_count": null,
      "outputs": []
    },
    {
      "cell_type": "code",
      "metadata": {
        "id": "Fp-6szuibPiQ"
      },
      "source": [
        "future = model_fit.predict(start=len(time_series),end=len(time_series)+7)\n",
        "plt.title(\"7 Days forecast\")\n",
        "plt.plot(future.index, future, color='blue', linestyle='dashed')\n",
        "plt.show()"
      ],
      "execution_count": null,
      "outputs": []
    },
    {
      "cell_type": "markdown",
      "metadata": {
        "id": "XJd22KxQrWS_"
      },
      "source": [
        "### ARMA model in iterative process"
      ]
    },
    {
      "cell_type": "code",
      "metadata": {
        "id": "iDJREsh7CM62"
      },
      "source": [
        "# split the data into train and test\n",
        "train_ar = time_series[:int(len(time_series)*0.9)]\n",
        "test_ar = time_series[int(len(time_series)*0.9):]"
      ],
      "execution_count": null,
      "outputs": []
    },
    {
      "cell_type": "code",
      "metadata": {
        "id": "dUWV9S_WXnPC"
      },
      "source": [
        "len(train_ar), len(test_ar)"
      ],
      "execution_count": null,
      "outputs": []
    },
    {
      "cell_type": "code",
      "metadata": {
        "id": "5HCpwUDMbqVD"
      },
      "source": [
        "# ARMA Method - 2\n",
        "history = [x for x in train_ar.values]\n",
        "predictions = list()\n",
        "\n",
        "for t in range(len(test_ar)):\n",
        "    model = ARMA(history, order=(4,1) )\n",
        "    model_fit = model.fit()\n",
        "    output = model_fit.forecast() # one-step forecast\n",
        "    yhat = output[0]\n",
        "    predictions.append(yhat)\n",
        "    obs = test_ar.values[t]\n",
        "    history.append(obs)\n",
        "    print(model_fit.aic)"
      ],
      "execution_count": null,
      "outputs": []
    },
    {
      "cell_type": "markdown",
      "metadata": {
        "id": "6z4_RyrvcBP1"
      },
      "source": [
        "#### Plot the predictions for timeseries data"
      ]
    },
    {
      "cell_type": "code",
      "metadata": {
        "id": "p1aoW1K5eCd1"
      },
      "source": [
        "plt.figure(figsize=(17,7))\n",
        "plt.plot(train_ar.index,train_ar,label=\"Train data\")\n",
        "plt.plot(test_ar.index, test_ar, color='red', label='Test Data')\n",
        "plt.plot(test_ar.index, predictions, color='green', linestyle='dashed', label='Predicted Data')\n",
        "plt.legend();"
      ],
      "execution_count": null,
      "outputs": []
    },
    {
      "cell_type": "markdown",
      "metadata": {
        "id": "N-0fthmnscRN"
      },
      "source": [
        "### Report Analysis\n",
        "\n",
        "* Discuss how sudden effects of bitcoin price effects the model parameters\n",
        "* State your observations about the trend and seasonality of the timeseries data\n",
        "* Discuss how you selected ARMA (p, d and q) terms.\n",
        "* Interpret the AIC value obtained for the ARMA model"
      ]
    },
    {
      "cell_type": "markdown",
      "metadata": {
        "id": "G6oYTcp0wWDc"
      },
      "source": [
        "Internal Reference: https://towardsdatascience.com/bitcoin-price-prediction-using-time-series-forecasting-9f468f7174d3"
      ]
    },
    {
      "cell_type": "markdown",
      "metadata": {
        "id": "32dqid9DeAo9"
      },
      "source": [
        "#### ARIMA model"
      ]
    },
    {
      "cell_type": "code",
      "metadata": {
        "id": "mR-WSABteCP7"
      },
      "source": [
        "from statsmodels.tsa.arima_model import ARIMA\n",
        "model = ARIMA(time_series,order=(4,0,1))\n",
        "model_fit = model.fit()\n",
        "model_fit.summary()"
      ],
      "execution_count": null,
      "outputs": []
    },
    {
      "cell_type": "code",
      "metadata": {
        "id": "v8oxOGEHeZvU"
      },
      "source": [
        "print(model_fit.aic)\n",
        "\n",
        "predictions = model_fit.predict()\n",
        "error = sqrt(mean_squared_error(time_series, predictions))\n",
        "print('RMSE value: %.3f' % error)"
      ],
      "execution_count": null,
      "outputs": []
    },
    {
      "cell_type": "code",
      "metadata": {
        "id": "EshikGdOg2Mx"
      },
      "source": [],
      "execution_count": null,
      "outputs": []
    }
  ]
}